{
 "cells": [
  {
   "cell_type": "markdown",
   "id": "ba3c5be7",
   "metadata": {},
   "source": [
    "# Malaria Detection Using Deep Learning"
   ]
  },
  {
   "cell_type": "code",
   "execution_count": 1,
   "id": "7866c5e9",
   "metadata": {},
   "outputs": [],
   "source": [
    "import pandas as pd\n",
    "import numpy as np\n",
    "import seaborn as sns\n",
    "import matplotlib.pyplot as plt\n",
    "import os"
   ]
  },
  {
   "cell_type": "code",
   "execution_count": 2,
   "id": "788412a4",
   "metadata": {},
   "outputs": [
    {
     "data": {
      "text/plain": [
       "['test', 'train']"
      ]
     },
     "execution_count": 2,
     "metadata": {},
     "output_type": "execute_result"
    }
   ],
   "source": [
    "# Download the data set from https://lhncbc.nlm.nih.gov/LHC-downloads/downloads.html#malaria-datasets\n",
    "data_dir = 'C:\\\\Users\\\\m10sa\\Desktop\\\\cell_images'\n",
    "os.listdir(data_dir)"
   ]
  },
  {
   "cell_type": "code",
   "execution_count": 3,
   "id": "9109e58e",
   "metadata": {},
   "outputs": [],
   "source": [
    "train_path = data_dir + '\\\\train\\\\'\n",
    "test_path = data_dir + '\\\\test\\\\'"
   ]
  },
  {
   "cell_type": "code",
   "execution_count": 4,
   "id": "a75e1e63",
   "metadata": {},
   "outputs": [
    {
     "data": {
      "text/plain": [
       "'C:\\\\Users\\\\m10sa\\\\Desktop\\\\cell_images\\\\train\\\\'"
      ]
     },
     "execution_count": 4,
     "metadata": {},
     "output_type": "execute_result"
    }
   ],
   "source": [
    "train_path"
   ]
  },
  {
   "cell_type": "code",
   "execution_count": 5,
   "id": "7af1c26c",
   "metadata": {
    "scrolled": true
   },
   "outputs": [
    {
     "data": {
      "text/plain": [
       "['parasitized', 'uninfected']"
      ]
     },
     "execution_count": 5,
     "metadata": {},
     "output_type": "execute_result"
    }
   ],
   "source": [
    "os.listdir(train_path)"
   ]
  },
  {
   "cell_type": "code",
   "execution_count": 6,
   "id": "5ff25765",
   "metadata": {},
   "outputs": [
    {
     "data": {
      "text/plain": [
       "['C100P61ThinF_IMG_20150918_144104_cell_162.png',\n",
       " 'C100P61ThinF_IMG_20150918_144104_cell_163.png',\n",
       " 'C100P61ThinF_IMG_20150918_144104_cell_164.png',\n",
       " 'C100P61ThinF_IMG_20150918_144104_cell_165.png',\n",
       " 'C100P61ThinF_IMG_20150918_144104_cell_166.png',\n",
       " 'C100P61ThinF_IMG_20150918_144104_cell_167.png',\n",
       " 'C100P61ThinF_IMG_20150918_144104_cell_168.png',\n",
       " 'C100P61ThinF_IMG_20150918_144104_cell_169.png',\n",
       " 'C100P61ThinF_IMG_20150918_144104_cell_170.png',\n",
       " 'C100P61ThinF_IMG_20150918_144104_cell_171.png',\n",
       " 'C100P61ThinF_IMG_20150918_144348_cell_138.png',\n",
       " 'C100P61ThinF_IMG_20150918_144348_cell_139.png',\n",
       " 'C100P61ThinF_IMG_20150918_144348_cell_140.png',\n",
       " 'C100P61ThinF_IMG_20150918_144348_cell_141.png',\n",
       " 'C100P61ThinF_IMG_20150918_144348_cell_142.png',\n",
       " 'C100P61ThinF_IMG_20150918_144348_cell_143.png',\n",
       " 'C100P61ThinF_IMG_20150918_144823_cell_157.png',\n",
       " 'C100P61ThinF_IMG_20150918_144823_cell_158.png',\n",
       " 'C100P61ThinF_IMG_20150918_144823_cell_159.png',\n",
       " 'C100P61ThinF_IMG_20150918_144823_cell_160.png',\n",
       " 'C100P61ThinF_IMG_20150918_144823_cell_161.png',\n",
       " 'C100P61ThinF_IMG_20150918_144823_cell_162.png',\n",
       " 'C100P61ThinF_IMG_20150918_145042_cell_162.png',\n",
       " 'C100P61ThinF_IMG_20150918_145042_cell_163.png',\n",
       " 'C100P61ThinF_IMG_20150918_145042_cell_164.png',\n",
       " 'C100P61ThinF_IMG_20150918_145042_cell_165.png',\n",
       " 'C100P61ThinF_IMG_20150918_145042_cell_166.png',\n",
       " 'C100P61ThinF_IMG_20150918_145042_cell_167.png',\n",
       " 'C100P61ThinF_IMG_20150918_145422_cell_163.png',\n",
       " 'C100P61ThinF_IMG_20150918_145422_cell_164.png',\n",
       " 'C100P61ThinF_IMG_20150918_145422_cell_166.png',\n",
       " 'C100P61ThinF_IMG_20150918_145422_cell_167.png',\n",
       " 'C100P61ThinF_IMG_20150918_145422_cell_168.png',\n",
       " 'C100P61ThinF_IMG_20150918_145422_cell_169.png',\n",
       " 'C100P61ThinF_IMG_20150918_145609_cell_144.png',\n",
       " 'C100P61ThinF_IMG_20150918_145609_cell_146.png',\n",
       " 'C100P61ThinF_IMG_20150918_145609_cell_147.png',\n",
       " 'C100P61ThinF_IMG_20150918_145609_cell_148.png',\n",
       " 'C100P61ThinF_IMG_20150918_145609_cell_151.png',\n",
       " 'C100P61ThinF_IMG_20150918_145938_cell_167.png',\n",
       " 'C100P61ThinF_IMG_20150918_145938_cell_168.png',\n",
       " 'C100P61ThinF_IMG_20150918_145938_cell_169.png',\n",
       " 'C100P61ThinF_IMG_20150918_145938_cell_170.png',\n",
       " 'C100P61ThinF_IMG_20150918_145938_cell_171.png',\n",
       " 'C100P61ThinF_IMG_20150918_145938_cell_172.png',\n",
       " 'C100P61ThinF_IMG_20150918_145938_cell_173.png',\n",
       " 'C100P61ThinF_IMG_20150918_145938_cell_174.png',\n",
       " 'C100P61ThinF_IMG_20150918_150041_cell_146.png',\n",
       " 'C100P61ThinF_IMG_20150918_150041_cell_147.png',\n",
       " 'C100P61ThinF_IMG_20150918_150041_cell_149.png',\n",
       " 'C101P62ThinF_IMG_20150918_151006_cell_61.png',\n",
       " 'C101P62ThinF_IMG_20150918_151006_cell_62.png',\n",
       " 'C101P62ThinF_IMG_20150918_151006_cell_63.png',\n",
       " 'C101P62ThinF_IMG_20150918_151006_cell_65.png',\n",
       " 'C101P62ThinF_IMG_20150918_151006_cell_66.png',\n",
       " 'C101P62ThinF_IMG_20150918_151006_cell_67.png',\n",
       " 'C101P62ThinF_IMG_20150918_151006_cell_68.png',\n",
       " 'C101P62ThinF_IMG_20150918_151006_cell_69.png',\n",
       " 'C101P62ThinF_IMG_20150918_151006_cell_70.png',\n",
       " 'C101P62ThinF_IMG_20150918_151006_cell_71.png',\n",
       " 'C101P62ThinF_IMG_20150918_151006_cell_72.png',\n",
       " 'C101P62ThinF_IMG_20150918_151006_cell_73.png',\n",
       " 'C101P62ThinF_IMG_20150918_151006_cell_74.png',\n",
       " 'C101P62ThinF_IMG_20150918_151006_cell_75.png',\n",
       " 'C101P62ThinF_IMG_20150918_151006_cell_76.png',\n",
       " 'C101P62ThinF_IMG_20150918_151006_cell_77.png',\n",
       " 'C101P62ThinF_IMG_20150918_151006_cell_78.png',\n",
       " 'C101P62ThinF_IMG_20150918_151006_cell_79.png',\n",
       " 'C101P62ThinF_IMG_20150918_151006_cell_80.png',\n",
       " 'C101P62ThinF_IMG_20150918_151006_cell_81.png',\n",
       " 'C101P62ThinF_IMG_20150918_151006_cell_82.png',\n",
       " 'C101P62ThinF_IMG_20150918_151006_cell_83.png',\n",
       " 'C101P62ThinF_IMG_20150918_151006_cell_84.png',\n",
       " 'C101P62ThinF_IMG_20150918_151006_cell_85.png',\n",
       " 'C101P62ThinF_IMG_20150918_151006_cell_86.png',\n",
       " 'C101P62ThinF_IMG_20150918_151149_cell_68.png',\n",
       " 'C101P62ThinF_IMG_20150918_151149_cell_69.png',\n",
       " 'C101P62ThinF_IMG_20150918_151149_cell_70.png',\n",
       " 'C101P62ThinF_IMG_20150918_151149_cell_71.png',\n",
       " 'C101P62ThinF_IMG_20150918_151149_cell_72.png',\n",
       " 'C101P62ThinF_IMG_20150918_151149_cell_73.png',\n",
       " 'C101P62ThinF_IMG_20150918_151149_cell_74.png',\n",
       " 'C101P62ThinF_IMG_20150918_151149_cell_75.png',\n",
       " 'C101P62ThinF_IMG_20150918_151149_cell_76.png',\n",
       " 'C101P62ThinF_IMG_20150918_151149_cell_77.png',\n",
       " 'C101P62ThinF_IMG_20150918_151149_cell_78.png',\n",
       " 'C101P62ThinF_IMG_20150918_151149_cell_79.png',\n",
       " 'C101P62ThinF_IMG_20150918_151149_cell_80.png',\n",
       " 'C101P62ThinF_IMG_20150918_151149_cell_81.png',\n",
       " 'C101P62ThinF_IMG_20150918_151149_cell_82.png',\n",
       " 'C101P62ThinF_IMG_20150918_151149_cell_83.png',\n",
       " 'C101P62ThinF_IMG_20150918_151149_cell_84.png',\n",
       " 'C101P62ThinF_IMG_20150918_151149_cell_85.png',\n",
       " 'C101P62ThinF_IMG_20150918_151149_cell_86.png',\n",
       " 'C101P62ThinF_IMG_20150918_151149_cell_87.png',\n",
       " 'C101P62ThinF_IMG_20150918_151149_cell_88.png',\n",
       " 'C101P62ThinF_IMG_20150918_151239_cell_100.png',\n",
       " 'C101P62ThinF_IMG_20150918_151239_cell_74.png',\n",
       " 'C101P62ThinF_IMG_20150918_151239_cell_75.png',\n",
       " 'C101P62ThinF_IMG_20150918_151239_cell_76.png',\n",
       " 'C101P62ThinF_IMG_20150918_151239_cell_77.png',\n",
       " 'C101P62ThinF_IMG_20150918_151239_cell_78.png',\n",
       " 'C101P62ThinF_IMG_20150918_151239_cell_79.png',\n",
       " 'C101P62ThinF_IMG_20150918_151239_cell_81.png',\n",
       " 'C101P62ThinF_IMG_20150918_151239_cell_82.png',\n",
       " 'C101P62ThinF_IMG_20150918_151239_cell_83.png',\n",
       " 'C101P62ThinF_IMG_20150918_151239_cell_84.png',\n",
       " 'C101P62ThinF_IMG_20150918_151239_cell_85.png',\n",
       " 'C101P62ThinF_IMG_20150918_151239_cell_86.png',\n",
       " 'C101P62ThinF_IMG_20150918_151239_cell_87.png',\n",
       " 'C101P62ThinF_IMG_20150918_151239_cell_89.png',\n",
       " 'C101P62ThinF_IMG_20150918_151239_cell_90.png',\n",
       " 'C101P62ThinF_IMG_20150918_151239_cell_91.png',\n",
       " 'C101P62ThinF_IMG_20150918_151239_cell_92.png',\n",
       " 'C101P62ThinF_IMG_20150918_151239_cell_93.png',\n",
       " 'C101P62ThinF_IMG_20150918_151239_cell_94.png',\n",
       " 'C101P62ThinF_IMG_20150918_151239_cell_95.png',\n",
       " 'C101P62ThinF_IMG_20150918_151239_cell_96.png',\n",
       " 'C101P62ThinF_IMG_20150918_151239_cell_97.png',\n",
       " 'C101P62ThinF_IMG_20150918_151239_cell_98.png',\n",
       " 'C101P62ThinF_IMG_20150918_151335_cell_51.png',\n",
       " 'C101P62ThinF_IMG_20150918_151335_cell_52.png',\n",
       " 'C101P62ThinF_IMG_20150918_151335_cell_53.png',\n",
       " 'C101P62ThinF_IMG_20150918_151335_cell_54.png',\n",
       " 'C101P62ThinF_IMG_20150918_151335_cell_55.png',\n",
       " 'C101P62ThinF_IMG_20150918_151335_cell_56.png',\n",
       " 'C101P62ThinF_IMG_20150918_151335_cell_57.png',\n",
       " 'C101P62ThinF_IMG_20150918_151335_cell_59.png',\n",
       " 'C101P62ThinF_IMG_20150918_151335_cell_60.png',\n",
       " 'C101P62ThinF_IMG_20150918_151335_cell_61.png',\n",
       " 'C101P62ThinF_IMG_20150918_151335_cell_62.png',\n",
       " 'C101P62ThinF_IMG_20150918_151335_cell_63.png',\n",
       " 'C101P62ThinF_IMG_20150918_151335_cell_64.png',\n",
       " 'C101P62ThinF_IMG_20150918_151335_cell_65.png',\n",
       " 'C101P62ThinF_IMG_20150918_151335_cell_67.png',\n",
       " 'C101P62ThinF_IMG_20150918_151335_cell_68.png',\n",
       " 'C101P62ThinF_IMG_20150918_151335_cell_69.png',\n",
       " 'C101P62ThinF_IMG_20150918_151335_cell_70.png',\n",
       " 'C101P62ThinF_IMG_20150918_151335_cell_71.png',\n",
       " 'C101P62ThinF_IMG_20150918_151335_cell_72.png',\n",
       " 'C101P62ThinF_IMG_20150918_151335_cell_73.png',\n",
       " 'C101P62ThinF_IMG_20150918_151335_cell_74.png',\n",
       " 'C101P62ThinF_IMG_20150918_151335_cell_75.png',\n",
       " 'C101P62ThinF_IMG_20150918_151335_cell_76.png',\n",
       " 'C101P62ThinF_IMG_20150918_151335_cell_77.png',\n",
       " 'C101P62ThinF_IMG_20150918_151335_cell_78.png',\n",
       " 'C101P62ThinF_IMG_20150918_151507_cell_49.png',\n",
       " 'C101P62ThinF_IMG_20150918_151507_cell_50.png',\n",
       " 'C101P62ThinF_IMG_20150918_151507_cell_51.png',\n",
       " 'C101P62ThinF_IMG_20150918_151507_cell_52.png',\n",
       " 'C101P62ThinF_IMG_20150918_151507_cell_53.png',\n",
       " 'C101P62ThinF_IMG_20150918_151507_cell_54.png',\n",
       " 'C101P62ThinF_IMG_20150918_151507_cell_55.png',\n",
       " 'C101P62ThinF_IMG_20150918_151507_cell_56.png',\n",
       " 'C101P62ThinF_IMG_20150918_151507_cell_57.png',\n",
       " 'C101P62ThinF_IMG_20150918_151507_cell_58.png',\n",
       " 'C101P62ThinF_IMG_20150918_151507_cell_59.png',\n",
       " 'C101P62ThinF_IMG_20150918_151507_cell_61.png',\n",
       " 'C101P62ThinF_IMG_20150918_151507_cell_62.png',\n",
       " 'C101P62ThinF_IMG_20150918_151507_cell_64.png',\n",
       " 'C101P62ThinF_IMG_20150918_151507_cell_66.png',\n",
       " 'C101P62ThinF_IMG_20150918_151507_cell_67.png',\n",
       " 'C101P62ThinF_IMG_20150918_151507_cell_68.png',\n",
       " 'C101P62ThinF_IMG_20150918_151507_cell_69.png',\n",
       " 'C101P62ThinF_IMG_20150918_151507_cell_71.png',\n",
       " 'C101P62ThinF_IMG_20150918_151507_cell_72.png',\n",
       " 'C101P62ThinF_IMG_20150918_151507_cell_74.png',\n",
       " 'C101P62ThinF_IMG_20150918_151507_cell_76.png',\n",
       " 'C101P62ThinF_IMG_20150918_151507_cell_77.png',\n",
       " 'C101P62ThinF_IMG_20150918_151942_cell_58.png',\n",
       " 'C101P62ThinF_IMG_20150918_151942_cell_59.png',\n",
       " 'C101P62ThinF_IMG_20150918_151942_cell_60.png',\n",
       " 'C101P62ThinF_IMG_20150918_151942_cell_61.png',\n",
       " 'C101P62ThinF_IMG_20150918_151942_cell_62.png',\n",
       " 'C101P62ThinF_IMG_20150918_151942_cell_64.png',\n",
       " 'C101P62ThinF_IMG_20150918_151942_cell_66.png',\n",
       " 'C101P62ThinF_IMG_20150918_151942_cell_67.png',\n",
       " 'C101P62ThinF_IMG_20150918_151942_cell_68.png',\n",
       " 'C101P62ThinF_IMG_20150918_151942_cell_69.png',\n",
       " 'C101P62ThinF_IMG_20150918_151942_cell_71.png',\n",
       " 'C101P62ThinF_IMG_20150918_151942_cell_72.png',\n",
       " 'C101P62ThinF_IMG_20150918_151942_cell_73.png',\n",
       " 'C101P62ThinF_IMG_20150918_151942_cell_74.png',\n",
       " 'C101P62ThinF_IMG_20150918_151942_cell_75.png',\n",
       " 'C101P62ThinF_IMG_20150918_151942_cell_76.png',\n",
       " 'C101P62ThinF_IMG_20150918_151942_cell_77.png',\n",
       " 'C101P62ThinF_IMG_20150918_151942_cell_78.png',\n",
       " 'C101P62ThinF_IMG_20150918_151942_cell_79.png',\n",
       " 'C101P62ThinF_IMG_20150918_151942_cell_80.png',\n",
       " 'C101P62ThinF_IMG_20150918_151942_cell_81.png',\n",
       " 'C101P62ThinF_IMG_20150918_151942_cell_82.png',\n",
       " 'C101P62ThinF_IMG_20150918_151942_cell_83.png',\n",
       " 'C101P62ThinF_IMG_20150918_151942_cell_84.png',\n",
       " 'C101P62ThinF_IMG_20150918_151942_cell_85.png',\n",
       " 'C101P62ThinF_IMG_20150918_151942_cell_88.png',\n",
       " 'C101P62ThinF_IMG_20150918_151942_cell_89.png',\n",
       " 'C101P62ThinF_IMG_20150918_151942_cell_90.png',\n",
       " 'C101P62ThinF_IMG_20150918_155026_cell_1.png',\n",
       " 'C101P62ThinF_IMG_20150918_155731_cell_61.png',\n",
       " 'C101P62ThinF_IMG_20150918_155731_cell_63.png',\n",
       " 'C101P62ThinF_IMG_20150918_155731_cell_64.png',\n",
       " 'C101P62ThinF_IMG_20150918_155731_cell_65.png',\n",
       " 'C101P62ThinF_IMG_20150918_155731_cell_68.png',\n",
       " 'C101P62ThinF_IMG_20150918_155731_cell_69.png',\n",
       " 'C101P62ThinF_IMG_20150918_155731_cell_70.png',\n",
       " 'C101P62ThinF_IMG_20150918_155731_cell_71.png',\n",
       " 'C101P62ThinF_IMG_20150918_155731_cell_73.png',\n",
       " 'C101P62ThinF_IMG_20150918_155731_cell_74.png',\n",
       " 'C101P62ThinF_IMG_20150918_155731_cell_75.png',\n",
       " 'C101P62ThinF_IMG_20150918_155731_cell_76.png',\n",
       " 'C101P62ThinF_IMG_20150918_155731_cell_77.png',\n",
       " 'C101P62ThinF_IMG_20150918_155731_cell_78.png',\n",
       " 'C101P62ThinF_IMG_20150918_155731_cell_79.png',\n",
       " 'C101P62ThinF_IMG_20150918_155731_cell_80.png',\n",
       " 'C101P62ThinF_IMG_20150918_155731_cell_81.png',\n",
       " 'C101P62ThinF_IMG_20150918_155731_cell_82.png',\n",
       " 'C101P62ThinF_IMG_20150918_155731_cell_83.png',\n",
       " 'C101P62ThinF_IMG_20150918_155731_cell_84.png',\n",
       " 'C101P62ThinF_IMG_20150923_165215_cell_1.png',\n",
       " 'C101P62ThinF_IMG_20150923_165215_cell_10.png',\n",
       " 'C101P62ThinF_IMG_20150923_165215_cell_11.png',\n",
       " 'C101P62ThinF_IMG_20150923_165215_cell_12.png',\n",
       " 'C101P62ThinF_IMG_20150923_165215_cell_13.png',\n",
       " 'C101P62ThinF_IMG_20150923_165215_cell_14.png',\n",
       " 'C101P62ThinF_IMG_20150923_165215_cell_15.png',\n",
       " 'C101P62ThinF_IMG_20150923_165215_cell_16.png',\n",
       " 'C101P62ThinF_IMG_20150923_165215_cell_17.png',\n",
       " 'C101P62ThinF_IMG_20150923_165215_cell_19.png',\n",
       " 'C101P62ThinF_IMG_20150923_165215_cell_20.png',\n",
       " 'C101P62ThinF_IMG_20150923_165215_cell_21.png',\n",
       " 'C101P62ThinF_IMG_20150923_165215_cell_22.png',\n",
       " 'C101P62ThinF_IMG_20150923_165215_cell_23.png',\n",
       " 'C101P62ThinF_IMG_20150923_165215_cell_24.png',\n",
       " 'C101P62ThinF_IMG_20150923_165215_cell_25.png',\n",
       " 'C101P62ThinF_IMG_20150923_165215_cell_26.png',\n",
       " 'C101P62ThinF_IMG_20150923_165215_cell_27.png',\n",
       " 'C101P62ThinF_IMG_20150923_165215_cell_28.png',\n",
       " 'C101P62ThinF_IMG_20150923_165215_cell_29.png',\n",
       " 'C101P62ThinF_IMG_20150923_165215_cell_3.png',\n",
       " 'C101P62ThinF_IMG_20150923_165215_cell_30.png',\n",
       " 'C101P62ThinF_IMG_20150923_165215_cell_32.png',\n",
       " 'C101P62ThinF_IMG_20150923_165215_cell_33.png',\n",
       " 'C101P62ThinF_IMG_20150923_165215_cell_34.png',\n",
       " 'C101P62ThinF_IMG_20150923_165215_cell_35.png',\n",
       " 'C101P62ThinF_IMG_20150923_165215_cell_37.png',\n",
       " 'C101P62ThinF_IMG_20150923_165215_cell_38.png',\n",
       " 'C101P62ThinF_IMG_20150923_165215_cell_39.png',\n",
       " 'C101P62ThinF_IMG_20150923_165215_cell_4.png',\n",
       " 'C101P62ThinF_IMG_20150923_165215_cell_40.png',\n",
       " 'C101P62ThinF_IMG_20150923_165215_cell_41.png',\n",
       " 'C101P62ThinF_IMG_20150923_165215_cell_5.png',\n",
       " 'C101P62ThinF_IMG_20150923_165215_cell_6.png',\n",
       " 'C101P62ThinF_IMG_20150923_165215_cell_7.png',\n",
       " 'C101P62ThinF_IMG_20150923_165215_cell_8.png',\n",
       " 'C101P62ThinF_IMG_20150923_165215_cell_9.png',\n",
       " 'C101P62ThinF_IMG_20150923_170110_cell_1.png',\n",
       " 'C101P62ThinF_IMG_20150923_170110_cell_10.png',\n",
       " 'C101P62ThinF_IMG_20150923_170110_cell_11.png',\n",
       " 'C101P62ThinF_IMG_20150923_170110_cell_12.png',\n",
       " 'C101P62ThinF_IMG_20150923_170110_cell_14.png',\n",
       " 'C101P62ThinF_IMG_20150923_170110_cell_15.png',\n",
       " 'C101P62ThinF_IMG_20150923_170110_cell_16.png',\n",
       " 'C101P62ThinF_IMG_20150923_170110_cell_17.png',\n",
       " 'C101P62ThinF_IMG_20150923_170110_cell_18.png',\n",
       " 'C101P62ThinF_IMG_20150923_170110_cell_19.png',\n",
       " 'C101P62ThinF_IMG_20150923_170110_cell_2.png',\n",
       " 'C101P62ThinF_IMG_20150923_170110_cell_20.png',\n",
       " 'C101P62ThinF_IMG_20150923_170110_cell_21.png',\n",
       " 'C101P62ThinF_IMG_20150923_170110_cell_22.png',\n",
       " 'C101P62ThinF_IMG_20150923_170110_cell_23.png',\n",
       " 'C101P62ThinF_IMG_20150923_170110_cell_24.png',\n",
       " 'C101P62ThinF_IMG_20150923_170110_cell_3.png',\n",
       " 'C101P62ThinF_IMG_20150923_170110_cell_4.png',\n",
       " 'C101P62ThinF_IMG_20150923_170110_cell_5.png',\n",
       " 'C101P62ThinF_IMG_20150923_170110_cell_6.png',\n",
       " 'C101P62ThinF_IMG_20150923_170110_cell_7.png',\n",
       " 'C101P62ThinF_IMG_20150923_170110_cell_8.png',\n",
       " 'C101P62ThinF_IMG_20150923_170110_cell_9.png',\n",
       " 'C101P62ThinF_IMG_20150923_170246_cell_62.png',\n",
       " 'C101P62ThinF_IMG_20150923_170246_cell_63.png',\n",
       " 'C101P62ThinF_IMG_20150923_170246_cell_64.png',\n",
       " 'C101P62ThinF_IMG_20150923_170246_cell_65.png',\n",
       " 'C101P62ThinF_IMG_20150923_170246_cell_66.png',\n",
       " 'C101P62ThinF_IMG_20150923_170246_cell_67.png',\n",
       " 'C101P62ThinF_IMG_20150923_170246_cell_68.png',\n",
       " 'C101P62ThinF_IMG_20150923_170246_cell_70.png',\n",
       " 'C101P62ThinF_IMG_20150923_170246_cell_71.png',\n",
       " 'C101P62ThinF_IMG_20150923_170246_cell_72.png',\n",
       " 'C101P62ThinF_IMG_20150923_170246_cell_74.png',\n",
       " 'C101P62ThinF_IMG_20150923_170246_cell_75.png',\n",
       " 'C101P62ThinF_IMG_20150923_170246_cell_76.png',\n",
       " 'C101P62ThinF_IMG_20150923_170246_cell_77.png',\n",
       " 'C101P62ThinF_IMG_20150923_170246_cell_78.png',\n",
       " 'C101P62ThinF_IMG_20150923_170246_cell_79.png',\n",
       " 'C101P62ThinF_IMG_20150923_170246_cell_80.png',\n",
       " 'C101P62ThinF_IMG_20150923_170246_cell_81.png',\n",
       " 'C101P62ThinF_IMG_20150923_170246_cell_82.png',\n",
       " 'C101P62ThinF_IMG_20150923_170246_cell_83.png',\n",
       " 'C101P62ThinF_IMG_20150923_170246_cell_84.png',\n",
       " 'C101P62ThinF_IMG_20150923_170246_cell_85.png',\n",
       " 'C101P62ThinF_IMG_20150923_170246_cell_87.png',\n",
       " 'C101P62ThinF_IMG_20150923_170246_cell_88.png',\n",
       " 'C101P62ThinF_IMG_20150923_170246_cell_89.png',\n",
       " 'C101P62ThinF_IMG_20150923_170246_cell_90.png',\n",
       " 'C101P62ThinF_IMG_20150923_170344_cell_100.png',\n",
       " 'C101P62ThinF_IMG_20150923_170344_cell_71.png',\n",
       " 'C101P62ThinF_IMG_20150923_170344_cell_72.png',\n",
       " 'C101P62ThinF_IMG_20150923_170344_cell_73.png',\n",
       " 'C101P62ThinF_IMG_20150923_170344_cell_74.png',\n",
       " 'C101P62ThinF_IMG_20150923_170344_cell_75.png',\n",
       " 'C101P62ThinF_IMG_20150923_170344_cell_76.png',\n",
       " 'C101P62ThinF_IMG_20150923_170344_cell_77.png',\n",
       " 'C101P62ThinF_IMG_20150923_170344_cell_78.png',\n",
       " 'C101P62ThinF_IMG_20150923_170344_cell_79.png',\n",
       " 'C101P62ThinF_IMG_20150923_170344_cell_80.png',\n",
       " 'C101P62ThinF_IMG_20150923_170344_cell_81.png',\n",
       " 'C101P62ThinF_IMG_20150923_170344_cell_82.png',\n",
       " 'C101P62ThinF_IMG_20150923_170344_cell_84.png',\n",
       " 'C101P62ThinF_IMG_20150923_170344_cell_86.png',\n",
       " 'C101P62ThinF_IMG_20150923_170344_cell_87.png',\n",
       " 'C101P62ThinF_IMG_20150923_170344_cell_88.png',\n",
       " 'C101P62ThinF_IMG_20150923_170344_cell_89.png',\n",
       " 'C101P62ThinF_IMG_20150923_170344_cell_90.png',\n",
       " 'C101P62ThinF_IMG_20150923_170344_cell_91.png',\n",
       " 'C101P62ThinF_IMG_20150923_170344_cell_92.png',\n",
       " 'C101P62ThinF_IMG_20150923_170344_cell_93.png',\n",
       " 'C101P62ThinF_IMG_20150923_170344_cell_94.png',\n",
       " 'C101P62ThinF_IMG_20150923_170344_cell_95.png',\n",
       " 'C101P62ThinF_IMG_20150923_170344_cell_97.png',\n",
       " 'C101P62ThinF_IMG_20150923_170344_cell_98.png',\n",
       " 'C102P63ThinF_IMG_20150918_161508_cell_190.png',\n",
       " 'C102P63ThinF_IMG_20150918_161508_cell_191.png',\n",
       " 'C102P63ThinF_IMG_20150918_161508_cell_192.png',\n",
       " 'C102P63ThinF_IMG_20150918_161508_cell_193.png',\n",
       " 'C102P63ThinF_IMG_20150918_161508_cell_194.png',\n",
       " 'C102P63ThinF_IMG_20150918_161508_cell_195.png',\n",
       " 'C102P63ThinF_IMG_20150918_161826_cell_170.png',\n",
       " 'C102P63ThinF_IMG_20150918_161826_cell_171.png',\n",
       " 'C102P63ThinF_IMG_20150918_161826_cell_172.png',\n",
       " 'C102P63ThinF_IMG_20150918_162051_cell_141.png',\n",
       " 'C102P63ThinF_IMG_20150918_162051_cell_142.png',\n",
       " 'C102P63ThinF_IMG_20150918_162051_cell_143.png',\n",
       " 'C102P63ThinF_IMG_20150918_162051_cell_144.png',\n",
       " 'C102P63ThinF_IMG_20150918_162051_cell_145.png',\n",
       " 'C102P63ThinF_IMG_20150918_162051_cell_146.png',\n",
       " 'C102P63ThinF_IMG_20150918_162051_cell_147.png',\n",
       " 'C102P63ThinF_IMG_20150918_162155_cell_132.png',\n",
       " 'C102P63ThinF_IMG_20150918_162155_cell_133.png',\n",
       " 'C102P63ThinF_IMG_20150918_162300_cell_180.png',\n",
       " 'C102P63ThinF_IMG_20150918_162300_cell_181.png',\n",
       " 'C102P63ThinF_IMG_20150918_162300_cell_182.png',\n",
       " 'C102P63ThinF_IMG_20150918_162511_cell_169.png',\n",
       " 'C102P63ThinF_IMG_20150918_162511_cell_170.png',\n",
       " 'C102P63ThinF_IMG_20150918_162511_cell_171.png',\n",
       " 'C102P63ThinF_IMG_20150918_162511_cell_172.png',\n",
       " 'C102P63ThinF_IMG_20150918_162511_cell_173.png',\n",
       " 'C102P63ThinF_IMG_20150918_162927_cell_1.png',\n",
       " 'C102P63ThinF_IMG_20150918_162927_cell_2.png',\n",
       " 'C102P63ThinF_IMG_20150918_162927_cell_3.png',\n",
       " 'C102P63ThinF_IMG_20150918_162927_cell_4.png',\n",
       " 'C102P63ThinF_IMG_20150918_162927_cell_5.png',\n",
       " 'C102P63ThinF_IMG_20150918_163054_cell_167.png',\n",
       " 'C102P63ThinF_IMG_20150918_163054_cell_168.png',\n",
       " 'C102P63ThinF_IMG_20150918_163054_cell_169.png',\n",
       " 'C102P63ThinF_IMG_20150918_163054_cell_170.png',\n",
       " 'C103P64ThinF_IMG_20150918_164250_cell_170.png',\n",
       " 'C103P64ThinF_IMG_20150918_164250_cell_172.png',\n",
       " 'C103P64ThinF_IMG_20150918_164250_cell_173.png',\n",
       " 'C103P64ThinF_IMG_20150918_164250_cell_174.png',\n",
       " 'C103P64ThinF_IMG_20150918_164331_cell_185.png',\n",
       " 'C103P64ThinF_IMG_20150918_164331_cell_186.png',\n",
       " 'C103P64ThinF_IMG_20150918_164331_cell_187.png',\n",
       " 'C103P64ThinF_IMG_20150918_164553_cell_167.png',\n",
       " 'C103P64ThinF_IMG_20150918_164553_cell_168.png',\n",
       " 'C103P64ThinF_IMG_20150918_164553_cell_169.png',\n",
       " 'C103P64ThinF_IMG_20150918_164553_cell_170.png',\n",
       " 'C103P64ThinF_IMG_20150918_164553_cell_172.png',\n",
       " 'C103P64ThinF_IMG_20150918_164553_cell_173.png',\n",
       " 'C103P64ThinF_IMG_20150918_165016_cell_158.png',\n",
       " 'C103P64ThinF_IMG_20150918_165016_cell_159.png',\n",
       " 'C103P64ThinF_IMG_20150918_165016_cell_160.png',\n",
       " 'C103P64ThinF_IMG_20150918_165016_cell_161.png',\n",
       " 'C103P64ThinF_IMG_20150918_165016_cell_162.png',\n",
       " 'C103P64ThinF_IMG_20150918_165125_cell_163.png',\n",
       " 'C103P64ThinF_IMG_20150918_165125_cell_164.png',\n",
       " 'C103P64ThinF_IMG_20150918_165125_cell_165.png',\n",
       " 'C103P64ThinF_IMG_20150918_165125_cell_166.png',\n",
       " 'C103P64ThinF_IMG_20150918_165510_cell_176.png',\n",
       " 'C103P64ThinF_IMG_20150918_165510_cell_177.png',\n",
       " 'C103P64ThinF_IMG_20150918_165510_cell_178.png',\n",
       " 'C103P64ThinF_IMG_20150918_165510_cell_179.png',\n",
       " 'C103P64ThinF_IMG_20150918_165510_cell_180.png',\n",
       " 'C103P64ThinF_IMG_20150918_165510_cell_181.png',\n",
       " 'C103P64ThinF_IMG_20150918_165510_cell_182.png',\n",
       " 'C103P64ThinF_IMG_20150918_165510_cell_183.png',\n",
       " 'C103P64ThinF_IMG_20150918_165510_cell_184.png',\n",
       " 'C103P64ThinF_IMG_20150918_165510_cell_185.png',\n",
       " 'C103P64ThinF_IMG_20150918_165510_cell_186.png',\n",
       " 'C103P64ThinF_IMG_20150918_165510_cell_188.png',\n",
       " 'C104P65ThinF_IMG_20150918_170850_cell_204.png',\n",
       " 'C104P65ThinF_IMG_20150918_171154_cell_212.png',\n",
       " 'C104P65ThinF_IMG_20150918_171154_cell_213.png',\n",
       " 'C104P65ThinF_IMG_20150918_171751_cell_186.png',\n",
       " 'C104P65ThinF_IMG_20150918_171751_cell_187.png',\n",
       " 'C104P65ThinF_IMG_20150918_172053_cell_187.png',\n",
       " 'C104P65ThinF_IMG_20150918_172537_cell_149.png',\n",
       " 'C104P65ThinF_IMG_20150918_172639_cell_182.png',\n",
       " 'C104P65ThinF_IMG_20150918_172639_cell_184.png',\n",
       " 'C105P66ThinF_IMG_20150924_094800_cell_136.png',\n",
       " 'C105P66ThinF_IMG_20150924_094800_cell_137.png',\n",
       " 'C105P66ThinF_IMG_20150924_095034_cell_148.png',\n",
       " 'C105P66ThinF_IMG_20150924_095034_cell_149.png',\n",
       " 'C105P66ThinF_IMG_20150924_095034_cell_150.png',\n",
       " 'C105P66ThinF_IMG_20150924_095130_cell_155.png',\n",
       " 'C105P66ThinF_IMG_20150924_095130_cell_156.png',\n",
       " 'C105P66ThinF_IMG_20150924_095130_cell_157.png',\n",
       " 'C105P66ThinF_IMG_20150924_095130_cell_158.png',\n",
       " 'C105P66ThinF_IMG_20150924_095633_cell_126.png',\n",
       " 'C105P66ThinF_IMG_20150924_095716_cell_113.png',\n",
       " 'C105P66ThinF_IMG_20150924_095716_cell_114.png',\n",
       " 'C105P66ThinF_IMG_20150924_095913_cell_117.png',\n",
       " 'C105P66ThinF_IMG_20150924_095913_cell_118.png',\n",
       " 'C105P66ThinF_IMG_20150924_100655_cell_123.png',\n",
       " 'C105P66ThinF_IMG_20150924_100655_cell_124.png',\n",
       " 'C105P66ThinF_IMG_20150924_100655_cell_125.png',\n",
       " 'C106P67ThinF_IMG_20150924_102245_cell_164.png',\n",
       " 'C106P67ThinF_IMG_20150924_102245_cell_165.png',\n",
       " 'C106P67ThinF_IMG_20150924_102245_cell_166.png',\n",
       " 'C106P67ThinF_IMG_20150924_102413_cell_190.png',\n",
       " 'C106P67ThinF_IMG_20150924_102826_cell_143.png',\n",
       " 'C106P67ThinF_IMG_20150924_103245_cell_143.png',\n",
       " 'C106P67ThinF_IMG_20150924_103811_cell_180.png',\n",
       " 'C106P67ThinF_IMG_20150924_103811_cell_181.png',\n",
       " 'C106P67ThinF_IMG_20150924_103811_cell_182.png',\n",
       " 'C106P67ThinF_IMG_20150924_103811_cell_183.png',\n",
       " 'C106P67ThinF_IMG_20150924_104044_cell_167.png',\n",
       " 'C106P67ThinF_IMG_20150924_104044_cell_168.png',\n",
       " 'C107P68ThinF_IMG_20150924_221632_cell_169.png',\n",
       " 'C107P68ThinF_IMG_20150924_221632_cell_170.png',\n",
       " 'C107P68ThinF_IMG_20150924_221632_cell_172.png',\n",
       " 'C107P68ThinF_IMG_20150924_221632_cell_173.png',\n",
       " 'C107P68ThinF_IMG_20150924_221632_cell_174.png',\n",
       " 'C107P68ThinF_IMG_20150924_221632_cell_175.png',\n",
       " 'C107P68ThinF_IMG_20150924_221632_cell_176.png',\n",
       " 'C107P68ThinF_IMG_20150924_221632_cell_177.png',\n",
       " 'C107P68ThinF_IMG_20150924_221632_cell_178.png',\n",
       " 'C107P68ThinF_IMG_20150924_221632_cell_179.png',\n",
       " 'C107P68ThinF_IMG_20150924_221632_cell_180.png',\n",
       " 'C107P68ThinF_IMG_20150924_221909_cell_156.png',\n",
       " 'C107P68ThinF_IMG_20150924_221909_cell_159.png',\n",
       " 'C107P68ThinF_IMG_20150924_221909_cell_160.png',\n",
       " 'C107P68ThinF_IMG_20150924_221909_cell_161.png',\n",
       " 'C107P68ThinF_IMG_20150924_221909_cell_162.png',\n",
       " 'C107P68ThinF_IMG_20150924_221909_cell_163.png',\n",
       " 'C107P68ThinF_IMG_20150924_222233_cell_150.png',\n",
       " 'C107P68ThinF_IMG_20150924_222233_cell_151.png',\n",
       " 'C107P68ThinF_IMG_20150924_222233_cell_153.png',\n",
       " 'C107P68ThinF_IMG_20150924_222233_cell_154.png',\n",
       " 'C107P68ThinF_IMG_20150924_222233_cell_156.png',\n",
       " 'C107P68ThinF_IMG_20150924_222233_cell_157.png',\n",
       " 'C107P68ThinF_IMG_20150924_222233_cell_158.png',\n",
       " 'C107P68ThinF_IMG_20150924_222233_cell_159.png',\n",
       " 'C107P68ThinF_IMG_20150924_222233_cell_160.png',\n",
       " 'C107P68ThinF_IMG_20150924_222233_cell_161.png',\n",
       " 'C107P68ThinF_IMG_20150924_222233_cell_162.png',\n",
       " 'C107P68ThinF_IMG_20150924_222233_cell_163.png',\n",
       " 'C107P68ThinF_IMG_20150924_222415_cell_172.png',\n",
       " 'C107P68ThinF_IMG_20150924_222415_cell_173.png',\n",
       " 'C107P68ThinF_IMG_20150924_222415_cell_174.png',\n",
       " 'C107P68ThinF_IMG_20150924_222415_cell_175.png',\n",
       " 'C107P68ThinF_IMG_20150924_222415_cell_176.png',\n",
       " 'C107P68ThinF_IMG_20150924_222415_cell_177.png',\n",
       " 'C107P68ThinF_IMG_20150924_222415_cell_178.png',\n",
       " 'C107P68ThinF_IMG_20150924_222415_cell_179.png',\n",
       " 'C107P68ThinF_IMG_20150924_222415_cell_180.png',\n",
       " 'C107P68ThinF_IMG_20150924_222415_cell_181.png',\n",
       " 'C107P68ThinF_IMG_20150924_222415_cell_182.png',\n",
       " 'C107P68ThinF_IMG_20150924_222415_cell_183.png',\n",
       " 'C107P68ThinF_IMG_20150924_222535_cell_139.png',\n",
       " 'C107P68ThinF_IMG_20150924_222535_cell_140.png',\n",
       " 'C107P68ThinF_IMG_20150924_222535_cell_141.png',\n",
       " 'C107P68ThinF_IMG_20150924_222535_cell_142.png',\n",
       " 'C107P68ThinF_IMG_20150924_222535_cell_143.png',\n",
       " 'C107P68ThinF_IMG_20150924_222535_cell_144.png',\n",
       " 'C107P68ThinF_IMG_20150924_222535_cell_145.png',\n",
       " 'C107P68ThinF_IMG_20150924_222535_cell_146.png',\n",
       " 'C107P68ThinF_IMG_20150924_222535_cell_147.png',\n",
       " 'C107P68ThinF_IMG_20150924_222535_cell_148.png',\n",
       " 'C107P68ThinF_IMG_20150924_222630_cell_174.png',\n",
       " 'C107P68ThinF_IMG_20150924_222630_cell_175.png',\n",
       " 'C107P68ThinF_IMG_20150924_222630_cell_176.png',\n",
       " 'C107P68ThinF_IMG_20150924_222630_cell_177.png',\n",
       " 'C108P69ThinF_IMG_20150924_223834_cell_218.png',\n",
       " 'C108P69ThinF_IMG_20150924_223834_cell_219.png',\n",
       " 'C108P69ThinF_IMG_20150924_223834_cell_220.png',\n",
       " 'C108P69ThinF_IMG_20150924_223834_cell_221.png',\n",
       " 'C108P69ThinF_IMG_20150924_224038_cell_188.png',\n",
       " 'C108P69ThinF_IMG_20150924_224038_cell_189.png',\n",
       " 'C108P69ThinF_IMG_20150924_224038_cell_190.png',\n",
       " 'C108P69ThinF_IMG_20150924_224616_cell_195.png',\n",
       " 'C108P69ThinF_IMG_20150924_224616_cell_196.png',\n",
       " 'C108P69ThinF_IMG_20150924_224616_cell_197.png',\n",
       " 'C108P69ThinF_IMG_20150924_224616_cell_198.png',\n",
       " 'C108P69ThinF_IMG_20150924_224909_cell_226.png',\n",
       " 'C108P69ThinF_IMG_20150924_225004_cell_221.png',\n",
       " 'C108P69ThinF_IMG_20150924_225004_cell_222.png',\n",
       " 'C108P69ThinF_IMG_20150924_225004_cell_223.png',\n",
       " 'C108P69ThinF_IMG_20150924_225004_cell_224.png',\n",
       " 'C108P69ThinF_IMG_20150924_225004_cell_225.png',\n",
       " 'C108P69ThinF_IMG_20150924_225511_cell_182.png',\n",
       " 'C108P69ThinF_IMG_20150924_225511_cell_183.png',\n",
       " 'C108P69ThinF_IMG_20150924_225511_cell_184.png',\n",
       " 'C109P70ThinF_IMG_20150930_102716_cell_185.png',\n",
       " 'C109P70ThinF_IMG_20150930_102716_cell_186.png',\n",
       " 'C109P70ThinF_IMG_20150930_102716_cell_187.png',\n",
       " 'C109P70ThinF_IMG_20150930_102944_cell_171.png',\n",
       " 'C109P70ThinF_IMG_20150930_102944_cell_172.png',\n",
       " 'C109P70ThinF_IMG_20150930_103113_cell_160.png',\n",
       " 'C109P70ThinF_IMG_20150930_103113_cell_162.png',\n",
       " 'C109P70ThinF_IMG_20150930_103214_cell_182.png',\n",
       " 'C109P70ThinF_IMG_20150930_103214_cell_183.png',\n",
       " 'C109P70ThinF_IMG_20150930_103214_cell_184.png',\n",
       " 'C109P70ThinF_IMG_20150930_103214_cell_185.png',\n",
       " 'C109P70ThinF_IMG_20150930_103645_cell_172.png',\n",
       " 'C109P70ThinF_IMG_20150930_103645_cell_173.png',\n",
       " 'C109P70ThinF_IMG_20150930_103645_cell_174.png',\n",
       " 'C109P70ThinF_IMG_20150930_103645_cell_175.png',\n",
       " 'C109P70ThinF_IMG_20150930_103811_cell_157.png',\n",
       " 'C109P70ThinF_IMG_20150930_103811_cell_158.png',\n",
       " 'C110P71ThinF_IMG_20150930_105319_cell_185.png',\n",
       " 'C110P71ThinF_IMG_20150930_105319_cell_186.png',\n",
       " 'C110P71ThinF_IMG_20150930_105319_cell_187.png',\n",
       " 'C110P71ThinF_IMG_20150930_105319_cell_188.png',\n",
       " 'C110P71ThinF_IMG_20150930_105319_cell_189.png',\n",
       " 'C110P71ThinF_IMG_20150930_105319_cell_190.png',\n",
       " 'C110P71ThinF_IMG_20150930_105559_cell_199.png',\n",
       " 'C110P71ThinF_IMG_20150930_105559_cell_200.png',\n",
       " 'C110P71ThinF_IMG_20150930_105559_cell_201.png',\n",
       " 'C110P71ThinF_IMG_20150930_105559_cell_202.png',\n",
       " 'C110P71ThinF_IMG_20150930_105729_cell_207.png',\n",
       " 'C110P71ThinF_IMG_20150930_105925_cell_221.png',\n",
       " 'C110P71ThinF_IMG_20150930_110052_cell_238.png',\n",
       " 'C110P71ThinF_IMG_20150930_110052_cell_239.png',\n",
       " 'C110P71ThinF_IMG_20150930_110052_cell_240.png',\n",
       " 'C110P71ThinF_IMG_20150930_110052_cell_241.png',\n",
       " 'C110P71ThinF_IMG_20150930_110052_cell_242.png',\n",
       " 'C110P71ThinF_IMG_20150930_110052_cell_243.png',\n",
       " 'C110P71ThinF_IMG_20150930_110404_cell_157.png',\n",
       " 'C110P71ThinF_IMG_20150930_110404_cell_158.png',\n",
       " 'C110P71ThinF_IMG_20150930_110404_cell_159.png',\n",
       " 'C110P71ThinF_IMG_20150930_110404_cell_160.png',\n",
       " 'C111P72ThinF_IMG_20150930_112430_cell_191.png',\n",
       " 'C111P72ThinF_IMG_20150930_112430_cell_192.png',\n",
       " 'C111P72ThinF_IMG_20150930_112430_cell_193.png',\n",
       " 'C111P72ThinF_IMG_20150930_112609_cell_169.png',\n",
       " 'C111P72ThinF_IMG_20150930_112609_cell_170.png',\n",
       " 'C111P72ThinF_IMG_20150930_112827_cell_176.png',\n",
       " 'C111P72ThinF_IMG_20150930_112827_cell_177.png',\n",
       " 'C111P72ThinF_IMG_20150930_112827_cell_178.png',\n",
       " 'C111P72ThinF_IMG_20150930_112827_cell_179.png',\n",
       " 'C111P72ThinF_IMG_20150930_113003_cell_182.png',\n",
       " 'C111P72ThinF_IMG_20150930_113049_cell_162.png',\n",
       " 'C111P72ThinF_IMG_20150930_113049_cell_163.png',\n",
       " 'C111P72ThinF_IMG_20150930_113049_cell_164.png',\n",
       " 'C111P72ThinF_IMG_20150930_113049_cell_165.png',\n",
       " 'C111P72ThinF_IMG_20150930_113049_cell_166.png',\n",
       " 'C111P72ThinF_IMG_20150930_113210_cell_171.png',\n",
       " 'C111P72ThinF_IMG_20150930_113610_cell_202.png',\n",
       " 'C111P72ThinF_IMG_20150930_113610_cell_203.png',\n",
       " 'C112P73ThinF_IMG_20150930_131254_cell_184.png',\n",
       " 'C112P73ThinF_IMG_20150930_131401_cell_165.png',\n",
       " 'C112P73ThinF_IMG_20150930_131401_cell_166.png',\n",
       " 'C112P73ThinF_IMG_20150930_131401_cell_167.png',\n",
       " 'C112P73ThinF_IMG_20150930_131401_cell_168.png',\n",
       " 'C112P73ThinF_IMG_20150930_131516_cell_177.png',\n",
       " 'C112P73ThinF_IMG_20150930_131516_cell_178.png',\n",
       " 'C112P73ThinF_IMG_20150930_131605_cell_181.png',\n",
       " 'C112P73ThinF_IMG_20150930_131605_cell_182.png',\n",
       " 'C112P73ThinF_IMG_20150930_131605_cell_183.png',\n",
       " 'C112P73ThinF_IMG_20150930_131659_cell_193.png',\n",
       " 'C112P73ThinF_IMG_20150930_131753_cell_167.png',\n",
       " 'C112P73ThinF_IMG_20150930_131900_cell_174.png',\n",
       " 'C112P73ThinF_IMG_20150930_131900_cell_175.png',\n",
       " 'C113P74ThinF_IMG_20150930_134355_cell_165.png',\n",
       " 'C113P74ThinF_IMG_20150930_134355_cell_166.png',\n",
       " 'C113P74ThinF_IMG_20150930_134355_cell_167.png',\n",
       " 'C113P74ThinF_IMG_20150930_134355_cell_168.png',\n",
       " 'C113P74ThinF_IMG_20150930_134355_cell_169.png',\n",
       " 'C113P74ThinF_IMG_20150930_134355_cell_170.png',\n",
       " 'C113P74ThinF_IMG_20150930_134355_cell_171.png',\n",
       " 'C113P74ThinF_IMG_20150930_134429_cell_176.png',\n",
       " 'C113P74ThinF_IMG_20150930_134429_cell_177.png',\n",
       " 'C113P74ThinF_IMG_20150930_134429_cell_178.png',\n",
       " 'C113P74ThinF_IMG_20150930_134429_cell_179.png',\n",
       " 'C113P74ThinF_IMG_20150930_134429_cell_180.png',\n",
       " 'C113P74ThinF_IMG_20150930_134429_cell_181.png',\n",
       " 'C113P74ThinF_IMG_20150930_134429_cell_182.png',\n",
       " 'C113P74ThinF_IMG_20150930_134429_cell_183.png',\n",
       " 'C113P74ThinF_IMG_20150930_134429_cell_184.png',\n",
       " 'C113P74ThinF_IMG_20150930_134614_cell_169.png',\n",
       " 'C113P74ThinF_IMG_20150930_134614_cell_170.png',\n",
       " 'C113P74ThinF_IMG_20150930_134614_cell_171.png',\n",
       " 'C113P74ThinF_IMG_20150930_134614_cell_174.png',\n",
       " 'C113P74ThinF_IMG_20150930_134614_cell_175.png',\n",
       " 'C113P74ThinF_IMG_20150930_134614_cell_176.png',\n",
       " 'C113P74ThinF_IMG_20150930_134751_cell_173.png',\n",
       " 'C113P74ThinF_IMG_20150930_134751_cell_174.png',\n",
       " 'C113P74ThinF_IMG_20150930_134751_cell_176.png',\n",
       " 'C113P74ThinF_IMG_20150930_134751_cell_177.png',\n",
       " 'C113P74ThinF_IMG_20150930_134751_cell_179.png',\n",
       " 'C113P74ThinF_IMG_20150930_134751_cell_180.png',\n",
       " 'C113P74ThinF_IMG_20150930_134751_cell_181.png',\n",
       " 'C113P74ThinF_IMG_20150930_134949_cell_158.png',\n",
       " 'C113P74ThinF_IMG_20150930_134949_cell_159.png',\n",
       " 'C113P74ThinF_IMG_20150930_134949_cell_160.png',\n",
       " 'C113P74ThinF_IMG_20150930_134949_cell_162.png',\n",
       " 'C113P74ThinF_IMG_20150930_135904_cell_180.png',\n",
       " 'C113P74ThinF_IMG_20150930_135904_cell_181.png',\n",
       " 'C113P74ThinF_IMG_20150930_135904_cell_182.png',\n",
       " 'C113P74ThinF_IMG_20150930_135904_cell_183.png',\n",
       " 'C113P74ThinF_IMG_20150930_135904_cell_184.png',\n",
       " 'C113P74ThinF_IMG_20150930_135904_cell_185.png',\n",
       " 'C113P74ThinF_IMG_20150930_135904_cell_187.png',\n",
       " 'C113P74ThinF_IMG_20150930_135904_cell_188.png',\n",
       " 'C113P74ThinF_IMG_20150930_135904_cell_189.png',\n",
       " 'C113P74ThinF_IMG_20150930_140646_cell_181.png',\n",
       " 'C113P74ThinF_IMG_20150930_140646_cell_182.png',\n",
       " 'C113P74ThinF_IMG_20150930_140646_cell_183.png',\n",
       " 'C113P74ThinF_IMG_20150930_140646_cell_184.png',\n",
       " 'C113P74ThinF_IMG_20150930_140646_cell_185.png',\n",
       " 'C113P74ThinF_IMG_20150930_140646_cell_186.png',\n",
       " 'C113P74ThinF_IMG_20150930_140646_cell_187.png',\n",
       " 'C113P74ThinF_IMG_20150930_140646_cell_188.png',\n",
       " 'C113P74ThinF_IMG_20150930_140646_cell_190.png',\n",
       " 'C114P75ThinF_IMG_20150930_150013_cell_195.png',\n",
       " 'C114P75ThinF_IMG_20150930_150013_cell_196.png',\n",
       " 'C114P75ThinF_IMG_20150930_150057_cell_172.png',\n",
       " 'C114P75ThinF_IMG_20150930_150145_cell_159.png',\n",
       " 'C114P75ThinF_IMG_20150930_150145_cell_160.png',\n",
       " 'C114P75ThinF_IMG_20150930_150555_cell_145.png',\n",
       " 'C114P75ThinF_IMG_20150930_150733_cell_149.png',\n",
       " 'C114P75ThinF_IMG_20150930_150733_cell_150.png',\n",
       " 'C114P75ThinF_IMG_20150930_150833_cell_164.png',\n",
       " 'C114P75ThinF_IMG_20150930_150833_cell_165.png',\n",
       " 'C114P75ThinF_IMG_20150930_151150_cell_177.png',\n",
       " 'C114P75ThinF_IMG_20150930_151150_cell_178.png',\n",
       " 'C114P75ThinF_IMG_20150930_151150_cell_179.png',\n",
       " 'C115P76ThinF_IMG_20150930_161825_cell_219.png',\n",
       " 'C115P76ThinF_IMG_20150930_161825_cell_221.png',\n",
       " 'C115P76ThinF_IMG_20150930_162038_cell_206.png',\n",
       " 'C115P76ThinF_IMG_20150930_162038_cell_207.png',\n",
       " 'C115P76ThinF_IMG_20150930_162038_cell_208.png',\n",
       " 'C115P76ThinF_IMG_20150930_162038_cell_209.png',\n",
       " 'C115P76ThinF_IMG_20150930_162038_cell_210.png',\n",
       " 'C115P76ThinF_IMG_20150930_162315_cell_256.png',\n",
       " 'C115P76ThinF_IMG_20150930_162315_cell_257.png',\n",
       " 'C115P76ThinF_IMG_20150930_163018_cell_252.png',\n",
       " 'C115P76ThinF_IMG_20150930_163156_cell_242.png',\n",
       " 'C115P76ThinF_IMG_20150930_163156_cell_243.png',\n",
       " 'C116P77ThinF_IMG_20150930_171219_cell_100.png',\n",
       " 'C116P77ThinF_IMG_20150930_171219_cell_101.png',\n",
       " 'C116P77ThinF_IMG_20150930_171219_cell_102.png',\n",
       " 'C116P77ThinF_IMG_20150930_171219_cell_104.png',\n",
       " 'C116P77ThinF_IMG_20150930_171219_cell_105.png',\n",
       " 'C116P77ThinF_IMG_20150930_171219_cell_106.png',\n",
       " 'C116P77ThinF_IMG_20150930_171219_cell_107.png',\n",
       " 'C116P77ThinF_IMG_20150930_171219_cell_109.png',\n",
       " 'C116P77ThinF_IMG_20150930_171219_cell_110.png',\n",
       " 'C116P77ThinF_IMG_20150930_171219_cell_111.png',\n",
       " 'C116P77ThinF_IMG_20150930_171219_cell_114.png',\n",
       " 'C116P77ThinF_IMG_20150930_171219_cell_76.png',\n",
       " 'C116P77ThinF_IMG_20150930_171219_cell_78.png',\n",
       " 'C116P77ThinF_IMG_20150930_171219_cell_79.png',\n",
       " 'C116P77ThinF_IMG_20150930_171219_cell_80.png',\n",
       " 'C116P77ThinF_IMG_20150930_171219_cell_81.png',\n",
       " 'C116P77ThinF_IMG_20150930_171219_cell_82.png',\n",
       " 'C116P77ThinF_IMG_20150930_171219_cell_83.png',\n",
       " 'C116P77ThinF_IMG_20150930_171219_cell_84.png',\n",
       " 'C116P77ThinF_IMG_20150930_171219_cell_85.png',\n",
       " 'C116P77ThinF_IMG_20150930_171219_cell_86.png',\n",
       " 'C116P77ThinF_IMG_20150930_171219_cell_87.png',\n",
       " 'C116P77ThinF_IMG_20150930_171219_cell_89.png',\n",
       " 'C116P77ThinF_IMG_20150930_171219_cell_90.png',\n",
       " 'C116P77ThinF_IMG_20150930_171219_cell_91.png',\n",
       " 'C116P77ThinF_IMG_20150930_171219_cell_92.png',\n",
       " 'C116P77ThinF_IMG_20150930_171219_cell_93.png',\n",
       " 'C116P77ThinF_IMG_20150930_171219_cell_94.png',\n",
       " 'C116P77ThinF_IMG_20150930_171219_cell_95.png',\n",
       " 'C116P77ThinF_IMG_20150930_171219_cell_96.png',\n",
       " 'C116P77ThinF_IMG_20150930_171219_cell_97.png',\n",
       " 'C116P77ThinF_IMG_20150930_171219_cell_98.png',\n",
       " 'C116P77ThinF_IMG_20150930_171219_cell_99.png',\n",
       " 'C116P77ThinF_IMG_20150930_171448_cell_100.png',\n",
       " 'C116P77ThinF_IMG_20150930_171448_cell_101.png',\n",
       " 'C116P77ThinF_IMG_20150930_171448_cell_102.png',\n",
       " 'C116P77ThinF_IMG_20150930_171448_cell_103.png',\n",
       " 'C116P77ThinF_IMG_20150930_171448_cell_104.png',\n",
       " 'C116P77ThinF_IMG_20150930_171448_cell_105.png',\n",
       " 'C116P77ThinF_IMG_20150930_171448_cell_106.png',\n",
       " 'C116P77ThinF_IMG_20150930_171448_cell_107.png',\n",
       " 'C116P77ThinF_IMG_20150930_171448_cell_108.png',\n",
       " 'C116P77ThinF_IMG_20150930_171448_cell_109.png',\n",
       " 'C116P77ThinF_IMG_20150930_171448_cell_110.png',\n",
       " 'C116P77ThinF_IMG_20150930_171448_cell_111.png',\n",
       " 'C116P77ThinF_IMG_20150930_171448_cell_112.png',\n",
       " 'C116P77ThinF_IMG_20150930_171448_cell_113.png',\n",
       " 'C116P77ThinF_IMG_20150930_171448_cell_115.png',\n",
       " 'C116P77ThinF_IMG_20150930_171448_cell_116.png',\n",
       " 'C116P77ThinF_IMG_20150930_171448_cell_117.png',\n",
       " 'C116P77ThinF_IMG_20150930_171448_cell_118.png',\n",
       " 'C116P77ThinF_IMG_20150930_171448_cell_119.png',\n",
       " 'C116P77ThinF_IMG_20150930_171448_cell_120.png',\n",
       " 'C116P77ThinF_IMG_20150930_171448_cell_121.png',\n",
       " 'C116P77ThinF_IMG_20150930_171448_cell_122.png',\n",
       " 'C116P77ThinF_IMG_20150930_171448_cell_123.png',\n",
       " 'C116P77ThinF_IMG_20150930_171448_cell_124.png',\n",
       " 'C116P77ThinF_IMG_20150930_171448_cell_125.png',\n",
       " 'C116P77ThinF_IMG_20150930_171448_cell_126.png',\n",
       " 'C116P77ThinF_IMG_20150930_171448_cell_127.png',\n",
       " 'C116P77ThinF_IMG_20150930_171448_cell_129.png',\n",
       " 'C116P77ThinF_IMG_20150930_171448_cell_130.png',\n",
       " 'C116P77ThinF_IMG_20150930_171448_cell_131.png',\n",
       " 'C116P77ThinF_IMG_20150930_171448_cell_132.png',\n",
       " 'C116P77ThinF_IMG_20150930_171448_cell_83.png',\n",
       " 'C116P77ThinF_IMG_20150930_171448_cell_84.png',\n",
       " 'C116P77ThinF_IMG_20150930_171448_cell_86.png',\n",
       " 'C116P77ThinF_IMG_20150930_171448_cell_89.png',\n",
       " 'C116P77ThinF_IMG_20150930_171448_cell_90.png',\n",
       " 'C116P77ThinF_IMG_20150930_171448_cell_91.png',\n",
       " 'C116P77ThinF_IMG_20150930_171448_cell_92.png',\n",
       " 'C116P77ThinF_IMG_20150930_171448_cell_93.png',\n",
       " 'C116P77ThinF_IMG_20150930_171448_cell_94.png',\n",
       " 'C116P77ThinF_IMG_20150930_171448_cell_95.png',\n",
       " 'C116P77ThinF_IMG_20150930_171448_cell_96.png',\n",
       " 'C116P77ThinF_IMG_20150930_171448_cell_97.png',\n",
       " 'C116P77ThinF_IMG_20150930_171448_cell_98.png',\n",
       " 'C116P77ThinF_IMG_20150930_171448_cell_99.png',\n",
       " 'C116P77ThinF_IMG_20150930_171558_cell_101.png',\n",
       " 'C116P77ThinF_IMG_20150930_171558_cell_102.png',\n",
       " 'C116P77ThinF_IMG_20150930_171558_cell_104.png',\n",
       " 'C116P77ThinF_IMG_20150930_171558_cell_105.png',\n",
       " 'C116P77ThinF_IMG_20150930_171558_cell_106.png',\n",
       " 'C116P77ThinF_IMG_20150930_171558_cell_107.png',\n",
       " 'C116P77ThinF_IMG_20150930_171558_cell_108.png',\n",
       " 'C116P77ThinF_IMG_20150930_171558_cell_109.png',\n",
       " 'C116P77ThinF_IMG_20150930_171558_cell_110.png',\n",
       " 'C116P77ThinF_IMG_20150930_171558_cell_111.png',\n",
       " 'C116P77ThinF_IMG_20150930_171558_cell_112.png',\n",
       " 'C116P77ThinF_IMG_20150930_171558_cell_115.png',\n",
       " 'C116P77ThinF_IMG_20150930_171558_cell_116.png',\n",
       " 'C116P77ThinF_IMG_20150930_171558_cell_117.png',\n",
       " 'C116P77ThinF_IMG_20150930_171558_cell_118.png',\n",
       " 'C116P77ThinF_IMG_20150930_171558_cell_119.png',\n",
       " 'C116P77ThinF_IMG_20150930_171558_cell_120.png',\n",
       " 'C116P77ThinF_IMG_20150930_171558_cell_121.png',\n",
       " 'C116P77ThinF_IMG_20150930_171558_cell_122.png',\n",
       " 'C116P77ThinF_IMG_20150930_171558_cell_123.png',\n",
       " 'C116P77ThinF_IMG_20150930_171558_cell_126.png',\n",
       " 'C116P77ThinF_IMG_20150930_171558_cell_128.png',\n",
       " 'C116P77ThinF_IMG_20150930_171558_cell_129.png',\n",
       " 'C116P77ThinF_IMG_20150930_171558_cell_130.png',\n",
       " 'C116P77ThinF_IMG_20150930_171558_cell_132.png',\n",
       " 'C116P77ThinF_IMG_20150930_171558_cell_133.png',\n",
       " 'C116P77ThinF_IMG_20150930_171558_cell_134.png',\n",
       " 'C116P77ThinF_IMG_20150930_171558_cell_135.png',\n",
       " 'C116P77ThinF_IMG_20150930_171558_cell_136.png',\n",
       " 'C116P77ThinF_IMG_20150930_171558_cell_137.png',\n",
       " 'C116P77ThinF_IMG_20150930_171558_cell_138.png',\n",
       " 'C116P77ThinF_IMG_20150930_171558_cell_139.png',\n",
       " 'C116P77ThinF_IMG_20150930_171558_cell_140.png',\n",
       " 'C116P77ThinF_IMG_20150930_171558_cell_141.png',\n",
       " 'C116P77ThinF_IMG_20150930_171558_cell_142.png',\n",
       " 'C116P77ThinF_IMG_20150930_171558_cell_144.png',\n",
       " 'C116P77ThinF_IMG_20150930_171558_cell_145.png',\n",
       " 'C116P77ThinF_IMG_20150930_171558_cell_146.png',\n",
       " 'C116P77ThinF_IMG_20150930_171558_cell_147.png',\n",
       " 'C116P77ThinF_IMG_20150930_171558_cell_148.png',\n",
       " 'C116P77ThinF_IMG_20150930_171558_cell_150.png',\n",
       " 'C116P77ThinF_IMG_20150930_171558_cell_151.png',\n",
       " 'C116P77ThinF_IMG_20150930_171558_cell_89.png',\n",
       " 'C116P77ThinF_IMG_20150930_171558_cell_90.png',\n",
       " 'C116P77ThinF_IMG_20150930_171558_cell_91.png',\n",
       " 'C116P77ThinF_IMG_20150930_171558_cell_92.png',\n",
       " 'C116P77ThinF_IMG_20150930_171558_cell_93.png',\n",
       " 'C116P77ThinF_IMG_20150930_171558_cell_95.png',\n",
       " 'C116P77ThinF_IMG_20150930_171558_cell_96.png',\n",
       " 'C116P77ThinF_IMG_20150930_171558_cell_97.png',\n",
       " 'C116P77ThinF_IMG_20150930_171558_cell_98.png',\n",
       " 'C116P77ThinF_IMG_20150930_171635_cell_100.png',\n",
       " 'C116P77ThinF_IMG_20150930_171635_cell_101.png',\n",
       " 'C116P77ThinF_IMG_20150930_171635_cell_102.png',\n",
       " 'C116P77ThinF_IMG_20150930_171635_cell_103.png',\n",
       " 'C116P77ThinF_IMG_20150930_171635_cell_105.png',\n",
       " 'C116P77ThinF_IMG_20150930_171635_cell_106.png',\n",
       " 'C116P77ThinF_IMG_20150930_171635_cell_107.png',\n",
       " 'C116P77ThinF_IMG_20150930_171635_cell_108.png',\n",
       " 'C116P77ThinF_IMG_20150930_171635_cell_109.png',\n",
       " 'C116P77ThinF_IMG_20150930_171635_cell_110.png',\n",
       " 'C116P77ThinF_IMG_20150930_171635_cell_111.png',\n",
       " 'C116P77ThinF_IMG_20150930_171635_cell_112.png',\n",
       " 'C116P77ThinF_IMG_20150930_171635_cell_113.png',\n",
       " 'C116P77ThinF_IMG_20150930_171635_cell_114.png',\n",
       " 'C116P77ThinF_IMG_20150930_171635_cell_115.png',\n",
       " 'C116P77ThinF_IMG_20150930_171635_cell_70.png',\n",
       " 'C116P77ThinF_IMG_20150930_171635_cell_71.png',\n",
       " 'C116P77ThinF_IMG_20150930_171635_cell_72.png',\n",
       " 'C116P77ThinF_IMG_20150930_171635_cell_73.png',\n",
       " 'C116P77ThinF_IMG_20150930_171635_cell_74.png',\n",
       " 'C116P77ThinF_IMG_20150930_171635_cell_75.png',\n",
       " 'C116P77ThinF_IMG_20150930_171635_cell_76.png',\n",
       " 'C116P77ThinF_IMG_20150930_171635_cell_77.png',\n",
       " 'C116P77ThinF_IMG_20150930_171635_cell_78.png',\n",
       " 'C116P77ThinF_IMG_20150930_171635_cell_79.png',\n",
       " 'C116P77ThinF_IMG_20150930_171635_cell_80.png',\n",
       " 'C116P77ThinF_IMG_20150930_171635_cell_81.png',\n",
       " 'C116P77ThinF_IMG_20150930_171635_cell_83.png',\n",
       " 'C116P77ThinF_IMG_20150930_171635_cell_84.png',\n",
       " 'C116P77ThinF_IMG_20150930_171635_cell_85.png',\n",
       " 'C116P77ThinF_IMG_20150930_171635_cell_86.png',\n",
       " 'C116P77ThinF_IMG_20150930_171635_cell_87.png',\n",
       " 'C116P77ThinF_IMG_20150930_171635_cell_89.png',\n",
       " 'C116P77ThinF_IMG_20150930_171635_cell_90.png',\n",
       " 'C116P77ThinF_IMG_20150930_171635_cell_91.png',\n",
       " 'C116P77ThinF_IMG_20150930_171635_cell_92.png',\n",
       " 'C116P77ThinF_IMG_20150930_171635_cell_93.png',\n",
       " 'C116P77ThinF_IMG_20150930_171635_cell_94.png',\n",
       " 'C116P77ThinF_IMG_20150930_171635_cell_95.png',\n",
       " 'C116P77ThinF_IMG_20150930_171635_cell_96.png',\n",
       " 'C116P77ThinF_IMG_20150930_171635_cell_97.png',\n",
       " 'C116P77ThinF_IMG_20150930_171635_cell_98.png',\n",
       " 'C116P77ThinF_IMG_20150930_171635_cell_99.png',\n",
       " 'C116P77ThinF_IMG_20150930_171739_cell_100.png',\n",
       " 'C116P77ThinF_IMG_20150930_171739_cell_101.png',\n",
       " 'C116P77ThinF_IMG_20150930_171739_cell_102.png',\n",
       " 'C116P77ThinF_IMG_20150930_171739_cell_103.png',\n",
       " 'C116P77ThinF_IMG_20150930_171739_cell_104.png',\n",
       " 'C116P77ThinF_IMG_20150930_171739_cell_105.png',\n",
       " 'C116P77ThinF_IMG_20150930_171739_cell_106.png',\n",
       " 'C116P77ThinF_IMG_20150930_171739_cell_107.png',\n",
       " 'C116P77ThinF_IMG_20150930_171739_cell_108.png',\n",
       " 'C116P77ThinF_IMG_20150930_171739_cell_111.png',\n",
       " 'C116P77ThinF_IMG_20150930_171739_cell_112.png',\n",
       " 'C116P77ThinF_IMG_20150930_171739_cell_113.png',\n",
       " 'C116P77ThinF_IMG_20150930_171739_cell_114.png',\n",
       " 'C116P77ThinF_IMG_20150930_171739_cell_115.png',\n",
       " 'C116P77ThinF_IMG_20150930_171739_cell_116.png',\n",
       " 'C116P77ThinF_IMG_20150930_171739_cell_117.png',\n",
       " 'C116P77ThinF_IMG_20150930_171739_cell_118.png',\n",
       " 'C116P77ThinF_IMG_20150930_171739_cell_75.png',\n",
       " 'C116P77ThinF_IMG_20150930_171739_cell_76.png',\n",
       " 'C116P77ThinF_IMG_20150930_171739_cell_77.png',\n",
       " 'C116P77ThinF_IMG_20150930_171739_cell_78.png',\n",
       " 'C116P77ThinF_IMG_20150930_171739_cell_80.png',\n",
       " 'C116P77ThinF_IMG_20150930_171739_cell_81.png',\n",
       " 'C116P77ThinF_IMG_20150930_171739_cell_82.png',\n",
       " 'C116P77ThinF_IMG_20150930_171739_cell_84.png',\n",
       " 'C116P77ThinF_IMG_20150930_171739_cell_86.png',\n",
       " 'C116P77ThinF_IMG_20150930_171739_cell_87.png',\n",
       " 'C116P77ThinF_IMG_20150930_171739_cell_88.png',\n",
       " 'C116P77ThinF_IMG_20150930_171739_cell_90.png',\n",
       " 'C116P77ThinF_IMG_20150930_171739_cell_91.png',\n",
       " 'C116P77ThinF_IMG_20150930_171739_cell_92.png',\n",
       " 'C116P77ThinF_IMG_20150930_171739_cell_93.png',\n",
       " 'C116P77ThinF_IMG_20150930_171739_cell_94.png',\n",
       " 'C116P77ThinF_IMG_20150930_171739_cell_95.png',\n",
       " 'C116P77ThinF_IMG_20150930_171739_cell_96.png',\n",
       " 'C116P77ThinF_IMG_20150930_171739_cell_97.png',\n",
       " 'C116P77ThinF_IMG_20150930_171739_cell_98.png',\n",
       " 'C116P77ThinF_IMG_20150930_171739_cell_99.png',\n",
       " 'C116P77ThinF_IMG_20150930_171809_cell_58.png',\n",
       " 'C116P77ThinF_IMG_20150930_171809_cell_59.png',\n",
       " 'C116P77ThinF_IMG_20150930_171809_cell_60.png',\n",
       " 'C116P77ThinF_IMG_20150930_171809_cell_61.png',\n",
       " 'C116P77ThinF_IMG_20150930_171809_cell_62.png',\n",
       " 'C116P77ThinF_IMG_20150930_171809_cell_64.png',\n",
       " 'C116P77ThinF_IMG_20150930_171809_cell_65.png',\n",
       " 'C116P77ThinF_IMG_20150930_171809_cell_66.png',\n",
       " 'C116P77ThinF_IMG_20150930_171809_cell_67.png',\n",
       " 'C116P77ThinF_IMG_20150930_171809_cell_68.png',\n",
       " 'C116P77ThinF_IMG_20150930_171809_cell_69.png',\n",
       " 'C116P77ThinF_IMG_20150930_171809_cell_70.png',\n",
       " 'C116P77ThinF_IMG_20150930_171809_cell_71.png',\n",
       " 'C116P77ThinF_IMG_20150930_171809_cell_72.png',\n",
       " 'C116P77ThinF_IMG_20150930_171809_cell_73.png',\n",
       " 'C116P77ThinF_IMG_20150930_171809_cell_74.png',\n",
       " 'C116P77ThinF_IMG_20150930_171809_cell_75.png',\n",
       " 'C116P77ThinF_IMG_20150930_171809_cell_76.png',\n",
       " 'C116P77ThinF_IMG_20150930_171809_cell_77.png',\n",
       " 'C116P77ThinF_IMG_20150930_171809_cell_78.png',\n",
       " 'C116P77ThinF_IMG_20150930_171809_cell_79.png',\n",
       " 'C116P77ThinF_IMG_20150930_171809_cell_80.png',\n",
       " 'C116P77ThinF_IMG_20150930_171809_cell_81.png',\n",
       " 'C116P77ThinF_IMG_20150930_171809_cell_82.png',\n",
       " 'C116P77ThinF_IMG_20150930_171809_cell_83.png',\n",
       " 'C116P77ThinF_IMG_20150930_171809_cell_84.png',\n",
       " 'C116P77ThinF_IMG_20150930_171809_cell_85.png',\n",
       " 'C116P77ThinF_IMG_20150930_171809_cell_86.png',\n",
       " 'C116P77ThinF_IMG_20150930_171809_cell_87.png',\n",
       " 'C116P77ThinF_IMG_20150930_171844_cell_100.png',\n",
       " 'C116P77ThinF_IMG_20150930_171844_cell_101.png',\n",
       " 'C116P77ThinF_IMG_20150930_171844_cell_102.png',\n",
       " 'C116P77ThinF_IMG_20150930_171844_cell_103.png',\n",
       " 'C116P77ThinF_IMG_20150930_171844_cell_104.png',\n",
       " 'C116P77ThinF_IMG_20150930_171844_cell_105.png',\n",
       " 'C116P77ThinF_IMG_20150930_171844_cell_106.png',\n",
       " 'C116P77ThinF_IMG_20150930_171844_cell_107.png',\n",
       " 'C116P77ThinF_IMG_20150930_171844_cell_108.png',\n",
       " 'C116P77ThinF_IMG_20150930_171844_cell_109.png',\n",
       " 'C116P77ThinF_IMG_20150930_171844_cell_110.png',\n",
       " 'C116P77ThinF_IMG_20150930_171844_cell_111.png',\n",
       " 'C116P77ThinF_IMG_20150930_171844_cell_112.png',\n",
       " 'C116P77ThinF_IMG_20150930_171844_cell_113.png',\n",
       " 'C116P77ThinF_IMG_20150930_171844_cell_114.png',\n",
       " 'C116P77ThinF_IMG_20150930_171844_cell_115.png',\n",
       " 'C116P77ThinF_IMG_20150930_171844_cell_116.png',\n",
       " 'C116P77ThinF_IMG_20150930_171844_cell_117.png',\n",
       " 'C116P77ThinF_IMG_20150930_171844_cell_118.png',\n",
       " 'C116P77ThinF_IMG_20150930_171844_cell_119.png',\n",
       " 'C116P77ThinF_IMG_20150930_171844_cell_120.png',\n",
       " 'C116P77ThinF_IMG_20150930_171844_cell_121.png',\n",
       " 'C116P77ThinF_IMG_20150930_171844_cell_122.png',\n",
       " 'C116P77ThinF_IMG_20150930_171844_cell_123.png',\n",
       " 'C116P77ThinF_IMG_20150930_171844_cell_124.png',\n",
       " 'C116P77ThinF_IMG_20150930_171844_cell_126.png',\n",
       " 'C116P77ThinF_IMG_20150930_171844_cell_127.png',\n",
       " 'C116P77ThinF_IMG_20150930_171844_cell_128.png',\n",
       " 'C116P77ThinF_IMG_20150930_171844_cell_82.png',\n",
       " 'C116P77ThinF_IMG_20150930_171844_cell_83.png',\n",
       " 'C116P77ThinF_IMG_20150930_171844_cell_84.png',\n",
       " 'C116P77ThinF_IMG_20150930_171844_cell_85.png',\n",
       " 'C116P77ThinF_IMG_20150930_171844_cell_86.png',\n",
       " 'C116P77ThinF_IMG_20150930_171844_cell_87.png',\n",
       " 'C116P77ThinF_IMG_20150930_171844_cell_88.png',\n",
       " 'C116P77ThinF_IMG_20150930_171844_cell_89.png',\n",
       " 'C116P77ThinF_IMG_20150930_171844_cell_90.png',\n",
       " 'C116P77ThinF_IMG_20150930_171844_cell_91.png',\n",
       " 'C116P77ThinF_IMG_20150930_171844_cell_93.png',\n",
       " 'C116P77ThinF_IMG_20150930_171844_cell_94.png',\n",
       " 'C116P77ThinF_IMG_20150930_171844_cell_95.png',\n",
       " 'C116P77ThinF_IMG_20150930_171844_cell_96.png',\n",
       " 'C116P77ThinF_IMG_20150930_171844_cell_97.png',\n",
       " 'C116P77ThinF_IMG_20150930_171844_cell_98.png',\n",
       " 'C116P77ThinF_IMG_20150930_171844_cell_99.png',\n",
       " 'C116P77ThinF_IMG_20150930_171954_cell_100.png',\n",
       " 'C116P77ThinF_IMG_20150930_171954_cell_101.png',\n",
       " 'C116P77ThinF_IMG_20150930_171954_cell_102.png',\n",
       " 'C116P77ThinF_IMG_20150930_171954_cell_103.png',\n",
       " 'C116P77ThinF_IMG_20150930_171954_cell_104.png',\n",
       " 'C116P77ThinF_IMG_20150930_171954_cell_105.png',\n",
       " 'C116P77ThinF_IMG_20150930_171954_cell_107.png',\n",
       " 'C116P77ThinF_IMG_20150930_171954_cell_108.png',\n",
       " 'C116P77ThinF_IMG_20150930_171954_cell_109.png',\n",
       " 'C116P77ThinF_IMG_20150930_171954_cell_111.png',\n",
       " 'C116P77ThinF_IMG_20150930_171954_cell_112.png',\n",
       " 'C116P77ThinF_IMG_20150930_171954_cell_113.png',\n",
       " 'C116P77ThinF_IMG_20150930_171954_cell_115.png',\n",
       " 'C116P77ThinF_IMG_20150930_171954_cell_73.png',\n",
       " 'C116P77ThinF_IMG_20150930_171954_cell_74.png',\n",
       " 'C116P77ThinF_IMG_20150930_171954_cell_75.png',\n",
       " 'C116P77ThinF_IMG_20150930_171954_cell_76.png',\n",
       " 'C116P77ThinF_IMG_20150930_171954_cell_77.png',\n",
       " 'C116P77ThinF_IMG_20150930_171954_cell_78.png',\n",
       " 'C116P77ThinF_IMG_20150930_171954_cell_79.png',\n",
       " 'C116P77ThinF_IMG_20150930_171954_cell_80.png',\n",
       " 'C116P77ThinF_IMG_20150930_171954_cell_81.png',\n",
       " 'C116P77ThinF_IMG_20150930_171954_cell_82.png',\n",
       " 'C116P77ThinF_IMG_20150930_171954_cell_83.png',\n",
       " 'C116P77ThinF_IMG_20150930_171954_cell_84.png',\n",
       " 'C116P77ThinF_IMG_20150930_171954_cell_85.png',\n",
       " 'C116P77ThinF_IMG_20150930_171954_cell_86.png',\n",
       " 'C116P77ThinF_IMG_20150930_171954_cell_87.png',\n",
       " 'C116P77ThinF_IMG_20150930_171954_cell_88.png',\n",
       " 'C116P77ThinF_IMG_20150930_171954_cell_90.png',\n",
       " 'C116P77ThinF_IMG_20150930_171954_cell_91.png',\n",
       " 'C116P77ThinF_IMG_20150930_171954_cell_92.png',\n",
       " 'C116P77ThinF_IMG_20150930_171954_cell_93.png',\n",
       " 'C116P77ThinF_IMG_20150930_171954_cell_94.png',\n",
       " 'C116P77ThinF_IMG_20150930_171954_cell_95.png',\n",
       " 'C116P77ThinF_IMG_20150930_171954_cell_96.png',\n",
       " 'C116P77ThinF_IMG_20150930_171954_cell_97.png',\n",
       " 'C116P77ThinF_IMG_20150930_171954_cell_98.png',\n",
       " 'C116P77ThinF_IMG_20150930_171954_cell_99.png',\n",
       " 'C116P77ThinF_IMG_20150930_172112_cell_100.png',\n",
       " 'C116P77ThinF_IMG_20150930_172112_cell_101.png',\n",
       " 'C116P77ThinF_IMG_20150930_172112_cell_102.png',\n",
       " 'C116P77ThinF_IMG_20150930_172112_cell_103.png',\n",
       " 'C116P77ThinF_IMG_20150930_172112_cell_104.png',\n",
       " 'C116P77ThinF_IMG_20150930_172112_cell_105.png',\n",
       " 'C116P77ThinF_IMG_20150930_172112_cell_106.png',\n",
       " 'C116P77ThinF_IMG_20150930_172112_cell_107.png',\n",
       " 'C116P77ThinF_IMG_20150930_172112_cell_109.png',\n",
       " 'C116P77ThinF_IMG_20150930_172112_cell_111.png',\n",
       " 'C116P77ThinF_IMG_20150930_172112_cell_112.png',\n",
       " 'C116P77ThinF_IMG_20150930_172112_cell_113.png',\n",
       " 'C116P77ThinF_IMG_20150930_172112_cell_114.png',\n",
       " 'C116P77ThinF_IMG_20150930_172112_cell_115.png',\n",
       " 'C116P77ThinF_IMG_20150930_172112_cell_65.png',\n",
       " 'C116P77ThinF_IMG_20150930_172112_cell_66.png',\n",
       " 'C116P77ThinF_IMG_20150930_172112_cell_67.png',\n",
       " 'C116P77ThinF_IMG_20150930_172112_cell_68.png',\n",
       " ...]"
      ]
     },
     "execution_count": 6,
     "metadata": {},
     "output_type": "execute_result"
    }
   ],
   "source": [
    "os.listdir(train_path + 'parasitized')"
   ]
  },
  {
   "cell_type": "code",
   "execution_count": 7,
   "id": "c9615bf4",
   "metadata": {},
   "outputs": [
    {
     "data": {
      "text/plain": [
       "'C100P61ThinF_IMG_20150918_144104_cell_163.png'"
      ]
     },
     "execution_count": 7,
     "metadata": {},
     "output_type": "execute_result"
    }
   ],
   "source": [
    "os.listdir(train_path+'parasitized')[1]"
   ]
  },
  {
   "cell_type": "code",
   "execution_count": 8,
   "id": "c5026b66",
   "metadata": {},
   "outputs": [],
   "source": [
    "para_cell = 'C:\\\\Users\\\\m10sa\\\\Desktop\\\\cell_images\\\\train\\\\parasitized\\\\C33P1thinF_IMG_20150619_114756a_cell_179.png'"
   ]
  },
  {
   "cell_type": "code",
   "execution_count": 9,
   "id": "37726be1",
   "metadata": {},
   "outputs": [],
   "source": [
    "from matplotlib.image import imread"
   ]
  },
  {
   "cell_type": "code",
   "execution_count": 10,
   "id": "58592075",
   "metadata": {
    "scrolled": false
   },
   "outputs": [
    {
     "data": {
      "text/plain": [
       "array([[[0., 0., 0.],\n",
       "        [0., 0., 0.],\n",
       "        [0., 0., 0.],\n",
       "        ...,\n",
       "        [0., 0., 0.],\n",
       "        [0., 0., 0.],\n",
       "        [0., 0., 0.]],\n",
       "\n",
       "       [[0., 0., 0.],\n",
       "        [0., 0., 0.],\n",
       "        [0., 0., 0.],\n",
       "        ...,\n",
       "        [0., 0., 0.],\n",
       "        [0., 0., 0.],\n",
       "        [0., 0., 0.]],\n",
       "\n",
       "       [[0., 0., 0.],\n",
       "        [0., 0., 0.],\n",
       "        [0., 0., 0.],\n",
       "        ...,\n",
       "        [0., 0., 0.],\n",
       "        [0., 0., 0.],\n",
       "        [0., 0., 0.]],\n",
       "\n",
       "       ...,\n",
       "\n",
       "       [[0., 0., 0.],\n",
       "        [0., 0., 0.],\n",
       "        [0., 0., 0.],\n",
       "        ...,\n",
       "        [0., 0., 0.],\n",
       "        [0., 0., 0.],\n",
       "        [0., 0., 0.]],\n",
       "\n",
       "       [[0., 0., 0.],\n",
       "        [0., 0., 0.],\n",
       "        [0., 0., 0.],\n",
       "        ...,\n",
       "        [0., 0., 0.],\n",
       "        [0., 0., 0.],\n",
       "        [0., 0., 0.]],\n",
       "\n",
       "       [[0., 0., 0.],\n",
       "        [0., 0., 0.],\n",
       "        [0., 0., 0.],\n",
       "        ...,\n",
       "        [0., 0., 0.],\n",
       "        [0., 0., 0.],\n",
       "        [0., 0., 0.]]], dtype=float32)"
      ]
     },
     "execution_count": 10,
     "metadata": {},
     "output_type": "execute_result"
    }
   ],
   "source": [
    "imread(para_cell)"
   ]
  },
  {
   "cell_type": "code",
   "execution_count": 11,
   "id": "b709dc7f",
   "metadata": {},
   "outputs": [
    {
     "data": {
      "image/png": "[encoded data removed]",
      "text/plain": [
       "<Figure size 640x480 with 1 Axes>"
      ]
     },
     "metadata": {},
     "output_type": "display_data"
    }
   ],
   "source": [
    "plt.imshow(imread(para_cell));"
   ]
  },
  {
   "cell_type": "code",
   "execution_count": 12,
   "id": "9800635c",
   "metadata": {},
   "outputs": [
    {
     "data": {
      "text/plain": [
       "'C100P61ThinF_IMG_20150918_144104_cell_128.png'"
      ]
     },
     "execution_count": 12,
     "metadata": {},
     "output_type": "execute_result"
    }
   ],
   "source": [
    "os.listdir(train_path+'uninfected')[0]"
   ]
  },
  {
   "cell_type": "code",
   "execution_count": 13,
   "id": "90327cf7",
   "metadata": {},
   "outputs": [],
   "source": [
    "uninfected_cell = train_path+'uninfected\\\\'+os.listdir(train_path+'uninfected')[0]"
   ]
  },
  {
   "cell_type": "code",
   "execution_count": 14,
   "id": "d085e0ff",
   "metadata": {},
   "outputs": [
    {
     "data": {
      "text/plain": [
       "array([[[0., 0., 0.],\n",
       "        [0., 0., 0.],\n",
       "        [0., 0., 0.],\n",
       "        ...,\n",
       "        [0., 0., 0.],\n",
       "        [0., 0., 0.],\n",
       "        [0., 0., 0.]],\n",
       "\n",
       "       [[0., 0., 0.],\n",
       "        [0., 0., 0.],\n",
       "        [0., 0., 0.],\n",
       "        ...,\n",
       "        [0., 0., 0.],\n",
       "        [0., 0., 0.],\n",
       "        [0., 0., 0.]],\n",
       "\n",
       "       [[0., 0., 0.],\n",
       "        [0., 0., 0.],\n",
       "        [0., 0., 0.],\n",
       "        ...,\n",
       "        [0., 0., 0.],\n",
       "        [0., 0., 0.],\n",
       "        [0., 0., 0.]],\n",
       "\n",
       "       ...,\n",
       "\n",
       "       [[0., 0., 0.],\n",
       "        [0., 0., 0.],\n",
       "        [0., 0., 0.],\n",
       "        ...,\n",
       "        [0., 0., 0.],\n",
       "        [0., 0., 0.],\n",
       "        [0., 0., 0.]],\n",
       "\n",
       "       [[0., 0., 0.],\n",
       "        [0., 0., 0.],\n",
       "        [0., 0., 0.],\n",
       "        ...,\n",
       "        [0., 0., 0.],\n",
       "        [0., 0., 0.],\n",
       "        [0., 0., 0.]],\n",
       "\n",
       "       [[0., 0., 0.],\n",
       "        [0., 0., 0.],\n",
       "        [0., 0., 0.],\n",
       "        ...,\n",
       "        [0., 0., 0.],\n",
       "        [0., 0., 0.],\n",
       "        [0., 0., 0.]]], dtype=float32)"
      ]
     },
     "execution_count": 14,
     "metadata": {},
     "output_type": "execute_result"
    }
   ],
   "source": [
    "imread(uninfected_cell)"
   ]
  },
  {
   "cell_type": "code",
   "execution_count": 15,
   "id": "c92b761d",
   "metadata": {},
   "outputs": [
    {
     "data": {
      "image/png": "[encoded data removed]",
      "text/plain": [
       "<Figure size 640x480 with 1 Axes>"
      ]
     },
     "metadata": {},
     "output_type": "display_data"
    }
   ],
   "source": [
    "plt.imshow(imread(uninfected_cell));"
   ]
  },
  {
   "cell_type": "code",
   "execution_count": 16,
   "id": "666b3dac",
   "metadata": {},
   "outputs": [
    {
     "data": {
      "text/plain": [
       "12480"
      ]
     },
     "execution_count": 16,
     "metadata": {},
     "output_type": "execute_result"
    }
   ],
   "source": [
    "len(os.listdir(train_path+'parasitized'))"
   ]
  },
  {
   "cell_type": "code",
   "execution_count": 17,
   "id": "066e394f",
   "metadata": {},
   "outputs": [
    {
     "data": {
      "text/plain": [
       "12480"
      ]
     },
     "execution_count": 17,
     "metadata": {},
     "output_type": "execute_result"
    }
   ],
   "source": [
    "len(os.listdir(train_path+'uninfected'))"
   ]
  },
  {
   "cell_type": "code",
   "execution_count": 18,
   "id": "30ca8b78",
   "metadata": {},
   "outputs": [],
   "source": [
    "dim1=[]\n",
    "dim2=[]\n",
    "\n",
    "for image_name in os.listdir(test_path+'uninfected'):\n",
    "    img = imread(test_path+'uninfected\\\\'+image_name)\n",
    "    d1,d2,colors=img.shape\n",
    "    dim1.append(d1)\n",
    "    dim2.append(d2)"
   ]
  },
  {
   "cell_type": "code",
   "execution_count": 19,
   "id": "d76d79f3",
   "metadata": {},
   "outputs": [
    {
     "data": {
      "text/html": [
       "<div>\n",
       "<style scoped>\n",
       "    .dataframe tbody tr th:only-of-type {\n",
       "        vertical-align: middle;\n",
       "    }\n",
       "\n",
       "    .dataframe tbody tr th {\n",
       "        vertical-align: top;\n",
       "    }\n",
       "\n",
       "    .dataframe thead th {\n",
       "        text-align: right;\n",
       "    }\n",
       "</style>\n",
       "<table border=\"1\" class=\"dataframe\">\n",
       "  <thead>\n",
       "    <tr style=\"text-align: right;\">\n",
       "      <th></th>\n",
       "      <th>dim1</th>\n",
       "      <th>dim2</th>\n",
       "    </tr>\n",
       "  </thead>\n",
       "  <tbody>\n",
       "    <tr>\n",
       "      <th>0</th>\n",
       "      <td>118</td>\n",
       "      <td>118</td>\n",
       "    </tr>\n",
       "    <tr>\n",
       "      <th>1</th>\n",
       "      <td>172</td>\n",
       "      <td>145</td>\n",
       "    </tr>\n",
       "    <tr>\n",
       "      <th>2</th>\n",
       "      <td>130</td>\n",
       "      <td>151</td>\n",
       "    </tr>\n",
       "    <tr>\n",
       "      <th>3</th>\n",
       "      <td>163</td>\n",
       "      <td>145</td>\n",
       "    </tr>\n",
       "    <tr>\n",
       "      <th>4</th>\n",
       "      <td>172</td>\n",
       "      <td>139</td>\n",
       "    </tr>\n",
       "    <tr>\n",
       "      <th>...</th>\n",
       "      <td>...</td>\n",
       "      <td>...</td>\n",
       "    </tr>\n",
       "    <tr>\n",
       "      <th>1295</th>\n",
       "      <td>130</td>\n",
       "      <td>142</td>\n",
       "    </tr>\n",
       "    <tr>\n",
       "      <th>1296</th>\n",
       "      <td>118</td>\n",
       "      <td>94</td>\n",
       "    </tr>\n",
       "    <tr>\n",
       "      <th>1297</th>\n",
       "      <td>109</td>\n",
       "      <td>136</td>\n",
       "    </tr>\n",
       "    <tr>\n",
       "      <th>1298</th>\n",
       "      <td>154</td>\n",
       "      <td>133</td>\n",
       "    </tr>\n",
       "    <tr>\n",
       "      <th>1299</th>\n",
       "      <td>166</td>\n",
       "      <td>148</td>\n",
       "    </tr>\n",
       "  </tbody>\n",
       "</table>\n",
       "<p>1300 rows × 2 columns</p>\n",
       "</div>"
      ],
      "text/plain": [
       "      dim1  dim2\n",
       "0      118   118\n",
       "1      172   145\n",
       "2      130   151\n",
       "3      163   145\n",
       "4      172   139\n",
       "...    ...   ...\n",
       "1295   130   142\n",
       "1296   118    94\n",
       "1297   109   136\n",
       "1298   154   133\n",
       "1299   166   148\n",
       "\n",
       "[1300 rows x 2 columns]"
      ]
     },
     "execution_count": 19,
     "metadata": {},
     "output_type": "execute_result"
    }
   ],
   "source": [
    "dims_df = pd.DataFrame({'dim1':dim1, 'dim2':dim2})\n",
    "dims_df"
   ]
  },
  {
   "cell_type": "code",
   "execution_count": 20,
   "id": "363dd10a",
   "metadata": {},
   "outputs": [
    {
     "data": {
      "text/html": [
       "<div>\n",
       "<style scoped>\n",
       "    .dataframe tbody tr th:only-of-type {\n",
       "        vertical-align: middle;\n",
       "    }\n",
       "\n",
       "    .dataframe tbody tr th {\n",
       "        vertical-align: top;\n",
       "    }\n",
       "\n",
       "    .dataframe thead th {\n",
       "        text-align: right;\n",
       "    }\n",
       "</style>\n",
       "<table border=\"1\" class=\"dataframe\">\n",
       "  <thead>\n",
       "    <tr style=\"text-align: right;\">\n",
       "      <th></th>\n",
       "      <th>dim1</th>\n",
       "      <th>dim2</th>\n",
       "    </tr>\n",
       "  </thead>\n",
       "  <tbody>\n",
       "    <tr>\n",
       "      <th>count</th>\n",
       "      <td>1300.000000</td>\n",
       "      <td>1300.00000</td>\n",
       "    </tr>\n",
       "    <tr>\n",
       "      <th>mean</th>\n",
       "      <td>130.925385</td>\n",
       "      <td>130.75000</td>\n",
       "    </tr>\n",
       "    <tr>\n",
       "      <th>std</th>\n",
       "      <td>18.718402</td>\n",
       "      <td>18.93341</td>\n",
       "    </tr>\n",
       "    <tr>\n",
       "      <th>min</th>\n",
       "      <td>58.000000</td>\n",
       "      <td>49.00000</td>\n",
       "    </tr>\n",
       "    <tr>\n",
       "      <th>25%</th>\n",
       "      <td>118.000000</td>\n",
       "      <td>118.00000</td>\n",
       "    </tr>\n",
       "    <tr>\n",
       "      <th>50%</th>\n",
       "      <td>130.000000</td>\n",
       "      <td>130.00000</td>\n",
       "    </tr>\n",
       "    <tr>\n",
       "      <th>75%</th>\n",
       "      <td>142.000000</td>\n",
       "      <td>142.00000</td>\n",
       "    </tr>\n",
       "    <tr>\n",
       "      <th>max</th>\n",
       "      <td>214.000000</td>\n",
       "      <td>217.00000</td>\n",
       "    </tr>\n",
       "  </tbody>\n",
       "</table>\n",
       "</div>"
      ],
      "text/plain": [
       "              dim1        dim2\n",
       "count  1300.000000  1300.00000\n",
       "mean    130.925385   130.75000\n",
       "std      18.718402    18.93341\n",
       "min      58.000000    49.00000\n",
       "25%     118.000000   118.00000\n",
       "50%     130.000000   130.00000\n",
       "75%     142.000000   142.00000\n",
       "max     214.000000   217.00000"
      ]
     },
     "execution_count": 20,
     "metadata": {},
     "output_type": "execute_result"
    }
   ],
   "source": [
    "dims_df.describe()"
   ]
  },
  {
   "cell_type": "code",
   "execution_count": 21,
   "id": "87a99219",
   "metadata": {},
   "outputs": [],
   "source": [
    "image_shape=(130,130,3)"
   ]
  },
  {
   "cell_type": "markdown",
   "id": "a7ae8bf8",
   "metadata": {},
   "source": [
    "### Using Image Data Generetor"
   ]
  },
  {
   "cell_type": "code",
   "execution_count": 22,
   "id": "daad3684",
   "metadata": {},
   "outputs": [
    {
     "name": "stdout",
     "output_type": "stream",
     "text": [
      "WARNING:tensorflow:From C:\\Users\\m10sa\\anaconda3\\Lib\\site-packages\\keras\\src\\losses.py:2976: The name tf.losses.sparse_softmax_cross_entropy is deprecated. Please use tf.compat.v1.losses.sparse_softmax_cross_entropy instead.\n",
      "\n"
     ]
    }
   ],
   "source": [
    "from tensorflow.keras.preprocessing.image import ImageDataGenerator"
   ]
  },
  {
   "cell_type": "code",
   "execution_count": 23,
   "id": "c8a64f12",
   "metadata": {},
   "outputs": [
    {
     "data": {
      "text/plain": [
       "1.0"
      ]
     },
     "execution_count": 23,
     "metadata": {},
     "output_type": "execute_result"
    }
   ],
   "source": [
    "imread(para_cell).max()"
   ]
  },
  {
   "cell_type": "code",
   "execution_count": 24,
   "id": "40c31f47",
   "metadata": {},
   "outputs": [
    {
     "data": {
      "text/plain": [
       "0.0"
      ]
     },
     "execution_count": 24,
     "metadata": {},
     "output_type": "execute_result"
    }
   ],
   "source": [
    "imread(para_cell).min()"
   ]
  },
  {
   "cell_type": "code",
   "execution_count": 25,
   "id": "016db9fb",
   "metadata": {},
   "outputs": [
    {
     "data": {
      "text/plain": [
       "0.88235295"
      ]
     },
     "execution_count": 25,
     "metadata": {},
     "output_type": "execute_result"
    }
   ],
   "source": [
    "imread(uninfected_cell).max()"
   ]
  },
  {
   "cell_type": "code",
   "execution_count": 26,
   "id": "d2e989bc",
   "metadata": {},
   "outputs": [
    {
     "data": {
      "text/plain": [
       "0.0"
      ]
     },
     "execution_count": 26,
     "metadata": {},
     "output_type": "execute_result"
    }
   ],
   "source": [
    "imread(uninfected_cell).min()"
   ]
  },
  {
   "cell_type": "code",
   "execution_count": 27,
   "id": "5c987a17",
   "metadata": {},
   "outputs": [],
   "source": [
    "image_gen = ImageDataGenerator(rotation_range=20, width_shift_range=0.1, height_shift_range=0.1, shear_range=0.1,\n",
    "                              zoom_range=0.1, horizontal_flip=True, fill_mode='nearest')"
   ]
  },
  {
   "cell_type": "code",
   "execution_count": 28,
   "id": "f2d83348",
   "metadata": {},
   "outputs": [],
   "source": [
    "para_image = os.listdir(test_path+'parasitized\\\\')[0]"
   ]
  },
  {
   "cell_type": "code",
   "execution_count": 29,
   "id": "11d4849e",
   "metadata": {},
   "outputs": [
    {
     "data": {
      "image/png": "[encoded data removed]",
      "text/plain": [
       "<Figure size 640x480 with 1 Axes>"
      ]
     },
     "metadata": {},
     "output_type": "display_data"
    }
   ],
   "source": [
    "para_image1 = test_path+'parasitized\\\\'+para_image\n",
    "para = imread(para_image1)\n",
    "plt.imshow(para);"
   ]
  },
  {
   "cell_type": "code",
   "execution_count": 30,
   "id": "e880c15f",
   "metadata": {},
   "outputs": [
    {
     "data": {
      "image/png": "[encoded data removed]",
      "text/plain": [
       "<Figure size 640x480 with 1 Axes>"
      ]
     },
     "metadata": {},
     "output_type": "display_data"
    }
   ],
   "source": [
    "plt.imshow(image_gen.random_transform(para));"
   ]
  },
  {
   "cell_type": "code",
   "execution_count": 31,
   "id": "e2b69857",
   "metadata": {},
   "outputs": [
    {
     "data": {
      "text/plain": [
       "'C:\\\\Users\\\\m10sa\\\\Desktop\\\\cell_images\\\\train\\\\'"
      ]
     },
     "execution_count": 31,
     "metadata": {},
     "output_type": "execute_result"
    }
   ],
   "source": [
    "train_path"
   ]
  },
  {
   "cell_type": "code",
   "execution_count": 32,
   "id": "21616347",
   "metadata": {
    "scrolled": true
   },
   "outputs": [
    {
     "name": "stdout",
     "output_type": "stream",
     "text": [
      "Found 24958 images belonging to 2 classes.\n"
     ]
    },
    {
     "data": {
      "text/plain": [
       "<keras.src.preprocessing.image.DirectoryIterator at 0x207a5d0d1d0>"
      ]
     },
     "execution_count": 32,
     "metadata": {},
     "output_type": "execute_result"
    }
   ],
   "source": [
    "image_gen.flow_from_directory(train_path)"
   ]
  },
  {
   "cell_type": "code",
   "execution_count": 33,
   "id": "279b9d5d",
   "metadata": {},
   "outputs": [
    {
     "data": {
      "text/plain": [
       "['parasitized', 'uninfected']"
      ]
     },
     "execution_count": 33,
     "metadata": {},
     "output_type": "execute_result"
    }
   ],
   "source": [
    "os.listdir(train_path)    "
   ]
  },
  {
   "cell_type": "code",
   "execution_count": 34,
   "id": "7ee22afc",
   "metadata": {},
   "outputs": [
    {
     "name": "stdout",
     "output_type": "stream",
     "text": [
      "Found 2600 images belonging to 2 classes.\n"
     ]
    }
   ],
   "source": [
    "image_gen.flow_from_directory(test_path);"
   ]
  },
  {
   "cell_type": "markdown",
   "id": "d9e5f032",
   "metadata": {},
   "source": [
    "### Creating the CNN Model"
   ]
  },
  {
   "cell_type": "code",
   "execution_count": 35,
   "id": "e82d84ff",
   "metadata": {},
   "outputs": [],
   "source": [
    "from tensorflow.keras.models import Sequential\n",
    "from tensorflow.keras.layers import Dense,Conv2D,MaxPool2D,Dropout,Flatten   "
   ]
  },
  {
   "cell_type": "code",
   "execution_count": 37,
   "id": "15dde7b9",
   "metadata": {},
   "outputs": [
    {
     "name": "stdout",
     "output_type": "stream",
     "text": [
      "WARNING:tensorflow:From C:\\Users\\m10sa\\anaconda3\\Lib\\site-packages\\keras\\src\\backend.py:873: The name tf.get_default_graph is deprecated. Please use tf.compat.v1.get_default_graph instead.\n",
      "\n",
      "WARNING:tensorflow:From C:\\Users\\m10sa\\anaconda3\\Lib\\site-packages\\keras\\src\\layers\\pooling\\max_pooling2d.py:161: The name tf.nn.max_pool is deprecated. Please use tf.nn.max_pool2d instead.\n",
      "\n",
      "WARNING:tensorflow:From C:\\Users\\m10sa\\anaconda3\\Lib\\site-packages\\keras\\src\\optimizers\\__init__.py:309: The name tf.train.Optimizer is deprecated. Please use tf.compat.v1.train.Optimizer instead.\n",
      "\n"
     ]
    }
   ],
   "source": [
    "model = Sequential()\n",
    "\n",
    "model.add(Conv2D(filters=32, kernel_size=(3,3), input_shape=image_shape, activation='relu'))\n",
    "model.add(MaxPool2D(pool_size=(2,2)))\n",
    "\n",
    "model.add(Conv2D(filters=64, kernel_size=(3,3), input_shape=image_shape, activation='relu'))\n",
    "model.add(MaxPool2D(pool_size=(2,2)))\n",
    "\n",
    "model.add(Conv2D(filters=64, kernel_size=(3,3), input_shape=image_shape, activation='relu'))\n",
    "model.add(MaxPool2D(pool_size=(2,2)))\n",
    "\n",
    "model.add(Flatten())\n",
    "\n",
    "model.add(Dense(128, activation='relu'))\n",
    "model.add(Dropout(0.5))\n",
    "\n",
    "model.add(Dense(1, activation='sigmoid'))\n",
    "\n",
    "model.compile(loss='binary_crossentropy', optimizer='adam', metrics=['accuracy'])"
   ]
  },
  {
   "cell_type": "code",
   "execution_count": 38,
   "id": "af036b45",
   "metadata": {},
   "outputs": [
    {
     "name": "stdout",
     "output_type": "stream",
     "text": [
      "Model: \"sequential\"\n",
      "_________________________________________________________________\n",
      " Layer (type)                Output Shape              Param #   \n",
      "=================================================================\n",
      " conv2d (Conv2D)             (None, 128, 128, 32)      896       \n",
      "                                                                 \n",
      " max_pooling2d (MaxPooling2  (None, 64, 64, 32)        0         \n",
      " D)                                                              \n",
      "                                                                 \n",
      " conv2d_1 (Conv2D)           (None, 62, 62, 64)        18496     \n",
      "                                                                 \n",
      " max_pooling2d_1 (MaxPoolin  (None, 31, 31, 64)        0         \n",
      " g2D)                                                            \n",
      "                                                                 \n",
      " conv2d_2 (Conv2D)           (None, 29, 29, 64)        36928     \n",
      "                                                                 \n",
      " max_pooling2d_2 (MaxPoolin  (None, 14, 14, 64)        0         \n",
      " g2D)                                                            \n",
      "                                                                 \n",
      " flatten (Flatten)           (None, 12544)             0         \n",
      "                                                                 \n",
      " dense (Dense)               (None, 128)               1605760   \n",
      "                                                                 \n",
      " dropout (Dropout)           (None, 128)               0         \n",
      "                                                                 \n",
      " dense_1 (Dense)             (None, 1)                 129       \n",
      "                                                                 \n",
      "=================================================================\n",
      "Total params: 1662209 (6.34 MB)\n",
      "Trainable params: 1662209 (6.34 MB)\n",
      "Non-trainable params: 0 (0.00 Byte)\n",
      "_________________________________________________________________\n"
     ]
    }
   ],
   "source": [
    "model.summary()"
   ]
  },
  {
   "cell_type": "code",
   "execution_count": 39,
   "id": "30774028",
   "metadata": {},
   "outputs": [],
   "source": [
    "from tensorflow.keras.callbacks import EarlyStopping"
   ]
  },
  {
   "cell_type": "code",
   "execution_count": 40,
   "id": "1e60bd58",
   "metadata": {},
   "outputs": [],
   "source": [
    "early_stop = EarlyStopping(monitor='val_loss', mode='min', patience=1)  "
   ]
  },
  {
   "cell_type": "code",
   "execution_count": 41,
   "id": "9d0df9a9",
   "metadata": {},
   "outputs": [],
   "source": [
    "batch_size = 16"
   ]
  },
  {
   "cell_type": "code",
   "execution_count": 42,
   "id": "2cf61941",
   "metadata": {},
   "outputs": [
    {
     "data": {
      "text/plain": [
       "(130, 130)"
      ]
     },
     "execution_count": 42,
     "metadata": {},
     "output_type": "execute_result"
    }
   ],
   "source": [
    "image_shape[:2]"
   ]
  },
  {
   "cell_type": "code",
   "execution_count": 43,
   "id": "3780a8d1",
   "metadata": {
    "scrolled": true
   },
   "outputs": [
    {
     "name": "stdout",
     "output_type": "stream",
     "text": [
      "Found 24958 images belonging to 2 classes.\n"
     ]
    }
   ],
   "source": [
    "train_image_gen = image_gen.flow_from_directory(train_path, target_size=image_shape[:2], color_mode='rgb', \n",
    "                                                class_mode='binary', batch_size=batch_size)"
   ]
  },
  {
   "cell_type": "code",
   "execution_count": 44,
   "id": "6e30bfcb",
   "metadata": {},
   "outputs": [
    {
     "name": "stdout",
     "output_type": "stream",
     "text": [
      "Found 2600 images belonging to 2 classes.\n"
     ]
    }
   ],
   "source": [
    "test_image_gen = image_gen.flow_from_directory(test_path, target_size=image_shape[:2], color_mode='rgb', \n",
    "                                                class_mode='binary', batch_size=batch_size, shuffle=False)"
   ]
  },
  {
   "cell_type": "code",
   "execution_count": 45,
   "id": "71bff583",
   "metadata": {
    "scrolled": true
   },
   "outputs": [
    {
     "data": {
      "text/plain": [
       "{'parasitized': 0, 'uninfected': 1}"
      ]
     },
     "execution_count": 45,
     "metadata": {},
     "output_type": "execute_result"
    }
   ],
   "source": [
    "train_image_gen.class_indices"
   ]
  },
  {
   "cell_type": "code",
   "execution_count": 46,
   "id": "f2b4a95d",
   "metadata": {
    "scrolled": true
   },
   "outputs": [
    {
     "data": {
      "text/plain": [
       "{'parasitized': 0, 'uninfected': 1}"
      ]
     },
     "execution_count": 46,
     "metadata": {},
     "output_type": "execute_result"
    }
   ],
   "source": [
    "test_image_gen.class_indices"
   ]
  },
  {
   "cell_type": "code",
   "execution_count": 47,
   "id": "3413f583",
   "metadata": {
    "scrolled": true
   },
   "outputs": [
    {
     "name": "stdout",
     "output_type": "stream",
     "text": [
      "Epoch 1/20\n",
      "WARNING:tensorflow:From C:\\Users\\m10sa\\anaconda3\\Lib\\site-packages\\keras\\src\\utils\\tf_utils.py:492: The name tf.ragged.RaggedTensorValue is deprecated. Please use tf.compat.v1.ragged.RaggedTensorValue instead.\n",
      "\n",
      "WARNING:tensorflow:From C:\\Users\\m10sa\\anaconda3\\Lib\\site-packages\\keras\\src\\engine\\base_layer_utils.py:384: The name tf.executing_eagerly_outside_functions is deprecated. Please use tf.compat.v1.executing_eagerly_outside_functions instead.\n",
      "\n",
      "1560/1560 [==============================] - 172s 109ms/step - loss: 0.8527 - accuracy: 0.5503 - val_loss: 0.6818 - val_accuracy: 0.5619\n",
      "Epoch 2/20\n",
      "1560/1560 [==============================] - 170s 109ms/step - loss: 0.6780 - accuracy: 0.5806 - val_loss: 0.6753 - val_accuracy: 0.5854\n",
      "Epoch 3/20\n",
      "1560/1560 [==============================] - 168s 107ms/step - loss: 0.6738 - accuracy: 0.5886 - val_loss: 0.6715 - val_accuracy: 0.5742\n",
      "Epoch 4/20\n",
      "1560/1560 [==============================] - 174s 111ms/step - loss: 0.6650 - accuracy: 0.6044 - val_loss: 0.6652 - val_accuracy: 0.5869\n",
      "Epoch 5/20\n",
      "1560/1560 [==============================] - 174s 112ms/step - loss: 0.4680 - accuracy: 0.7689 - val_loss: 0.2360 - val_accuracy: 0.9304\n",
      "Epoch 6/20\n",
      "1560/1560 [==============================] - 174s 111ms/step - loss: 0.2300 - accuracy: 0.9282 - val_loss: 0.2188 - val_accuracy: 0.9319\n",
      "Epoch 7/20\n",
      "1560/1560 [==============================] - 175s 112ms/step - loss: 0.2104 - accuracy: 0.9343 - val_loss: 0.2870 - val_accuracy: 0.9231\n"
     ]
    },
    {
     "data": {
      "text/plain": [
       "<keras.src.callbacks.History at 0x234d33dfa10>"
      ]
     },
     "execution_count": 47,
     "metadata": {},
     "output_type": "execute_result"
    }
   ],
   "source": [
    "results = model.fit(train_image_gen, epochs=20, validation_data=test_image_gen, callbacks=[early_stop])\n",
    "results"
   ]
  },
  {
   "cell_type": "code",
   "execution_count": 48,
   "id": "f3a931f1",
   "metadata": {},
   "outputs": [
    {
     "name": "stderr",
     "output_type": "stream",
     "text": [
      "C:\\Users\\m10sa\\anaconda3\\Lib\\site-packages\\keras\\src\\engine\\training.py:3103: UserWarning: You are saving your model as an HDF5 file via `model.save()`. This file format is considered legacy. We recommend using instead the native Keras format, e.g. `model.save('my_model.keras')`.\n",
      "  saving_api.save_model(\n"
     ]
    }
   ],
   "source": [
    "from tensorflow.keras.models import load_model\n",
    "model.save('my_malaria_detector_model.h5')"
   ]
  },
  {
   "cell_type": "code",
   "execution_count": 50,
   "id": "1b5a86e7",
   "metadata": {},
   "outputs": [
    {
     "name": "stdout",
     "output_type": "stream",
     "text": [
      "Model: \"sequential\"\n",
      "_________________________________________________________________\n",
      " Layer (type)                Output Shape              Param #   \n",
      "=================================================================\n",
      " conv2d (Conv2D)             (None, 128, 128, 32)      896       \n",
      "                                                                 \n",
      " max_pooling2d (MaxPooling2  (None, 64, 64, 32)        0         \n",
      " D)                                                              \n",
      "                                                                 \n",
      " conv2d_1 (Conv2D)           (None, 62, 62, 64)        18496     \n",
      "                                                                 \n",
      " max_pooling2d_1 (MaxPoolin  (None, 31, 31, 64)        0         \n",
      " g2D)                                                            \n",
      "                                                                 \n",
      " conv2d_2 (Conv2D)           (None, 29, 29, 64)        36928     \n",
      "                                                                 \n",
      " max_pooling2d_2 (MaxPoolin  (None, 14, 14, 64)        0         \n",
      " g2D)                                                            \n",
      "                                                                 \n",
      " flatten (Flatten)           (None, 12544)             0         \n",
      "                                                                 \n",
      " dense (Dense)               (None, 128)               1605760   \n",
      "                                                                 \n",
      " dropout (Dropout)           (None, 128)               0         \n",
      "                                                                 \n",
      " dense_1 (Dense)             (None, 1)                 129       \n",
      "                                                                 \n",
      "=================================================================\n",
      "Total params: 1662209 (6.34 MB)\n",
      "Trainable params: 1662209 (6.34 MB)\n",
      "Non-trainable params: 0 (0.00 Byte)\n",
      "_________________________________________________________________\n"
     ]
    }
   ],
   "source": [
    "model.summary()"
   ]
  },
  {
   "cell_type": "code",
   "execution_count": 51,
   "id": "b1614813",
   "metadata": {},
   "outputs": [
    {
     "data": {
      "text/html": [
       "<div>\n",
       "<style scoped>\n",
       "    .dataframe tbody tr th:only-of-type {\n",
       "        vertical-align: middle;\n",
       "    }\n",
       "\n",
       "    .dataframe tbody tr th {\n",
       "        vertical-align: top;\n",
       "    }\n",
       "\n",
       "    .dataframe thead th {\n",
       "        text-align: right;\n",
       "    }\n",
       "</style>\n",
       "<table border=\"1\" class=\"dataframe\">\n",
       "  <thead>\n",
       "    <tr style=\"text-align: right;\">\n",
       "      <th></th>\n",
       "      <th>loss</th>\n",
       "      <th>accuracy</th>\n",
       "      <th>val_loss</th>\n",
       "      <th>val_accuracy</th>\n",
       "    </tr>\n",
       "  </thead>\n",
       "  <tbody>\n",
       "    <tr>\n",
       "      <th>0</th>\n",
       "      <td>0.852684</td>\n",
       "      <td>0.550325</td>\n",
       "      <td>0.681835</td>\n",
       "      <td>0.561923</td>\n",
       "    </tr>\n",
       "    <tr>\n",
       "      <th>1</th>\n",
       "      <td>0.678002</td>\n",
       "      <td>0.580615</td>\n",
       "      <td>0.675328</td>\n",
       "      <td>0.585385</td>\n",
       "    </tr>\n",
       "    <tr>\n",
       "      <th>2</th>\n",
       "      <td>0.673834</td>\n",
       "      <td>0.588629</td>\n",
       "      <td>0.671480</td>\n",
       "      <td>0.574231</td>\n",
       "    </tr>\n",
       "    <tr>\n",
       "      <th>3</th>\n",
       "      <td>0.665042</td>\n",
       "      <td>0.604415</td>\n",
       "      <td>0.665221</td>\n",
       "      <td>0.586923</td>\n",
       "    </tr>\n",
       "    <tr>\n",
       "      <th>4</th>\n",
       "      <td>0.467965</td>\n",
       "      <td>0.768932</td>\n",
       "      <td>0.236031</td>\n",
       "      <td>0.930385</td>\n",
       "    </tr>\n",
       "    <tr>\n",
       "      <th>5</th>\n",
       "      <td>0.230011</td>\n",
       "      <td>0.928199</td>\n",
       "      <td>0.218799</td>\n",
       "      <td>0.931923</td>\n",
       "    </tr>\n",
       "    <tr>\n",
       "      <th>6</th>\n",
       "      <td>0.210446</td>\n",
       "      <td>0.934290</td>\n",
       "      <td>0.286986</td>\n",
       "      <td>0.923077</td>\n",
       "    </tr>\n",
       "  </tbody>\n",
       "</table>\n",
       "</div>"
      ],
      "text/plain": [
       "       loss  accuracy  val_loss  val_accuracy\n",
       "0  0.852684  0.550325  0.681835      0.561923\n",
       "1  0.678002  0.580615  0.675328      0.585385\n",
       "2  0.673834  0.588629  0.671480      0.574231\n",
       "3  0.665042  0.604415  0.665221      0.586923\n",
       "4  0.467965  0.768932  0.236031      0.930385\n",
       "5  0.230011  0.928199  0.218799      0.931923\n",
       "6  0.210446  0.934290  0.286986      0.923077"
      ]
     },
     "execution_count": 51,
     "metadata": {},
     "output_type": "execute_result"
    }
   ],
   "source": [
    "metrics_output = pd.DataFrame(model.history.history)\n",
    "metrics_output"
   ]
  },
  {
   "cell_type": "code",
   "execution_count": 52,
   "id": "2f03a625",
   "metadata": {},
   "outputs": [
    {
     "name": "stdout",
     "output_type": "stream",
     "text": [
      "163/163 [==============================] - 12s 76ms/step - loss: 0.2754 - accuracy: 0.9277\n"
     ]
    },
    {
     "data": {
      "text/plain": [
       "[0.2753605842590332, 0.9276922941207886]"
      ]
     },
     "execution_count": 52,
     "metadata": {},
     "output_type": "execute_result"
    }
   ],
   "source": [
    "model.evaluate(test_image_gen)"
   ]
  },
  {
   "cell_type": "code",
   "execution_count": 53,
   "id": "521c9389",
   "metadata": {},
   "outputs": [
    {
     "data": {
      "text/plain": [
       "['loss', 'accuracy']"
      ]
     },
     "execution_count": 53,
     "metadata": {},
     "output_type": "execute_result"
    }
   ],
   "source": [
    "model.metrics_names"
   ]
  },
  {
   "cell_type": "code",
   "execution_count": 54,
   "id": "6a92483e",
   "metadata": {
    "scrolled": false
   },
   "outputs": [
    {
     "data": {
      "image/png": "[encoded data removed]",
      "text/plain": [
       "<Figure size 640x480 with 1 Axes>"
      ]
     },
     "metadata": {},
     "output_type": "display_data"
    }
   ],
   "source": [
    "losses = metrics_output[['loss','val_loss']]\n",
    "losses.plot();"
   ]
  },
  {
   "cell_type": "code",
   "execution_count": 55,
   "id": "e6a6b826",
   "metadata": {},
   "outputs": [
    {
     "name": "stdout",
     "output_type": "stream",
     "text": [
      "163/163 [==============================] - 13s 77ms/step - loss: 0.2674 - accuracy: 0.9312\n"
     ]
    },
    {
     "data": {
      "text/plain": [
       "[0.26739680767059326, 0.9311538338661194]"
      ]
     },
     "execution_count": 55,
     "metadata": {},
     "output_type": "execute_result"
    }
   ],
   "source": [
    "model.evaluate(test_image_gen)"
   ]
  },
  {
   "cell_type": "code",
   "execution_count": 56,
   "id": "95aaa556",
   "metadata": {},
   "outputs": [
    {
     "name": "stdout",
     "output_type": "stream",
     "text": [
      "163/163 [==============================] - 12s 73ms/step\n"
     ]
    },
    {
     "data": {
      "text/plain": [
       "array([[6.1763356e-05],\n",
       "       [7.7881508e-05],\n",
       "       [1.1251056e-04],\n",
       "       ...,\n",
       "       [9.9543166e-01],\n",
       "       [9.8021626e-01],\n",
       "       [9.9878722e-01]], dtype=float32)"
      ]
     },
     "execution_count": 56,
     "metadata": {},
     "output_type": "execute_result"
    }
   ],
   "source": [
    "pred_proba = model.predict(test_image_gen)\n",
    "pred_proba"
   ]
  },
  {
   "cell_type": "code",
   "execution_count": 57,
   "id": "ebb737fa",
   "metadata": {},
   "outputs": [
    {
     "data": {
      "text/plain": [
       "2600"
      ]
     },
     "execution_count": 57,
     "metadata": {},
     "output_type": "execute_result"
    }
   ],
   "source": [
    "len(pred_proba)"
   ]
  },
  {
   "cell_type": "code",
   "execution_count": 58,
   "id": "3499179d",
   "metadata": {
    "scrolled": true
   },
   "outputs": [
    {
     "data": {
      "text/plain": [
       "array([[0],\n",
       "       [0],\n",
       "       [0],\n",
       "       ...,\n",
       "       [1],\n",
       "       [1],\n",
       "       [1]])"
      ]
     },
     "execution_count": 58,
     "metadata": {},
     "output_type": "execute_result"
    }
   ],
   "source": [
    "threshold = 0.5\n",
    "predictions = np.where(pred_proba>threshold, 1, 0)\n",
    "predictions"
   ]
  },
  {
   "cell_type": "code",
   "execution_count": 59,
   "id": "5c1d3df8",
   "metadata": {},
   "outputs": [],
   "source": [
    "from sklearn.metrics import classification_report, confusion_matrix"
   ]
  },
  {
   "cell_type": "code",
   "execution_count": 60,
   "id": "a3ee4d32",
   "metadata": {},
   "outputs": [
    {
     "data": {
      "text/plain": [
       "array([0, 0, 0, ..., 1, 1, 1])"
      ]
     },
     "execution_count": 60,
     "metadata": {},
     "output_type": "execute_result"
    }
   ],
   "source": [
    "y_test = test_image_gen.classes\n",
    "y_test"
   ]
  },
  {
   "cell_type": "code",
   "execution_count": 61,
   "id": "e21a648d",
   "metadata": {},
   "outputs": [
    {
     "name": "stdout",
     "output_type": "stream",
     "text": [
      "\u001b[1m              precision    recall  f1-score   support\n",
      "\n",
      "           0       0.97      0.88      0.92      1300\n",
      "           1       0.89      0.97      0.93      1300\n",
      "\n",
      "    accuracy                           0.93      2600\n",
      "   macro avg       0.93      0.93      0.93      2600\n",
      "weighted avg       0.93      0.93      0.93      2600\n",
      "\u001b[0;0m\n"
     ]
    }
   ],
   "source": [
    "print(\"\\033[1m\"+classification_report(y_test, predictions)+\"\\033[0;0m\")"
   ]
  },
  {
   "cell_type": "code",
   "execution_count": 62,
   "id": "7f499726",
   "metadata": {},
   "outputs": [
    {
     "data": {
      "text/plain": [
       "{'parasitized': 0, 'uninfected': 1}"
      ]
     },
     "execution_count": 62,
     "metadata": {},
     "output_type": "execute_result"
    }
   ],
   "source": [
    "test_image_gen.class_indices"
   ]
  },
  {
   "cell_type": "code",
   "execution_count": 63,
   "id": "86412326",
   "metadata": {
    "scrolled": false
   },
   "outputs": [
    {
     "data": {
      "image/png": "[encoded data removed]",
      "text/plain": [
       "<Figure size 640x480 with 2 Axes>"
      ]
     },
     "metadata": {},
     "output_type": "display_data"
    }
   ],
   "source": [
    "sns.heatmap(confusion_matrix(y_test, predictions), cmap='Blues', annot=True, fmt=',d');  "
   ]
  },
  {
   "cell_type": "code",
   "execution_count": 64,
   "id": "4998b1c8",
   "metadata": {},
   "outputs": [
    {
     "data": {
      "text/plain": [
       "'C:\\\\Users\\\\m10sa\\\\Desktop\\\\cell_images\\\\train\\\\parasitized\\\\C33P1thinF_IMG_20150619_114756a_cell_179.png'"
      ]
     },
     "execution_count": 64,
     "metadata": {},
     "output_type": "execute_result"
    }
   ],
   "source": [
    "para_cell"
   ]
  },
  {
   "cell_type": "code",
   "execution_count": 65,
   "id": "32289c4c",
   "metadata": {},
   "outputs": [],
   "source": [
    "from tensorflow.keras.preprocessing import image"
   ]
  },
  {
   "cell_type": "code",
   "execution_count": 66,
   "id": "39400bd8",
   "metadata": {
    "scrolled": true
   },
   "outputs": [
    {
     "data": {
      "image/jpeg": "[encoded data removed]",
      "image/png": "[encoded data removed]",
      "text/plain": [
       "<PIL.Image.Image image mode=RGB size=130x130>"
      ]
     },
     "execution_count": 66,
     "metadata": {},
     "output_type": "execute_result"
    }
   ],
   "source": [
    "my_image = image.load_img(para_cell, target_size=image_shape)\n",
    "my_image"
   ]
  },
  {
   "cell_type": "code",
   "execution_count": 67,
   "id": "3a0fb1f7",
   "metadata": {},
   "outputs": [
    {
     "data": {
      "text/plain": [
       "PIL.Image.Image"
      ]
     },
     "execution_count": 67,
     "metadata": {},
     "output_type": "execute_result"
    }
   ],
   "source": [
    "type(my_image)"
   ]
  },
  {
   "cell_type": "code",
   "execution_count": 68,
   "id": "5abfc220",
   "metadata": {},
   "outputs": [
    {
     "data": {
      "text/plain": [
       "array([[[0., 0., 0.],\n",
       "        [0., 0., 0.],\n",
       "        [0., 0., 0.],\n",
       "        ...,\n",
       "        [0., 0., 0.],\n",
       "        [0., 0., 0.],\n",
       "        [0., 0., 0.]],\n",
       "\n",
       "       [[0., 0., 0.],\n",
       "        [0., 0., 0.],\n",
       "        [0., 0., 0.],\n",
       "        ...,\n",
       "        [0., 0., 0.],\n",
       "        [0., 0., 0.],\n",
       "        [0., 0., 0.]],\n",
       "\n",
       "       [[0., 0., 0.],\n",
       "        [0., 0., 0.],\n",
       "        [0., 0., 0.],\n",
       "        ...,\n",
       "        [0., 0., 0.],\n",
       "        [0., 0., 0.],\n",
       "        [0., 0., 0.]],\n",
       "\n",
       "       ...,\n",
       "\n",
       "       [[0., 0., 0.],\n",
       "        [0., 0., 0.],\n",
       "        [0., 0., 0.],\n",
       "        ...,\n",
       "        [0., 0., 0.],\n",
       "        [0., 0., 0.],\n",
       "        [0., 0., 0.]],\n",
       "\n",
       "       [[0., 0., 0.],\n",
       "        [0., 0., 0.],\n",
       "        [0., 0., 0.],\n",
       "        ...,\n",
       "        [0., 0., 0.],\n",
       "        [0., 0., 0.],\n",
       "        [0., 0., 0.]],\n",
       "\n",
       "       [[0., 0., 0.],\n",
       "        [0., 0., 0.],\n",
       "        [0., 0., 0.],\n",
       "        ...,\n",
       "        [0., 0., 0.],\n",
       "        [0., 0., 0.],\n",
       "        [0., 0., 0.]]], dtype=float32)"
      ]
     },
     "execution_count": 68,
     "metadata": {},
     "output_type": "execute_result"
    }
   ],
   "source": [
    "my_image_arr = image.img_to_array(my_image)\n",
    "my_image_arr"
   ]
  },
  {
   "cell_type": "code",
   "execution_count": 69,
   "id": "1ce51af1",
   "metadata": {},
   "outputs": [
    {
     "data": {
      "text/plain": [
       "(130, 130, 3)"
      ]
     },
     "execution_count": 69,
     "metadata": {},
     "output_type": "execute_result"
    }
   ],
   "source": [
    "my_image_arr.shape"
   ]
  },
  {
   "cell_type": "code",
   "execution_count": 70,
   "id": "e9aa361f",
   "metadata": {},
   "outputs": [
    {
     "data": {
      "text/plain": [
       "array([[[[0., 0., 0.],\n",
       "         [0., 0., 0.],\n",
       "         [0., 0., 0.],\n",
       "         ...,\n",
       "         [0., 0., 0.],\n",
       "         [0., 0., 0.],\n",
       "         [0., 0., 0.]],\n",
       "\n",
       "        [[0., 0., 0.],\n",
       "         [0., 0., 0.],\n",
       "         [0., 0., 0.],\n",
       "         ...,\n",
       "         [0., 0., 0.],\n",
       "         [0., 0., 0.],\n",
       "         [0., 0., 0.]],\n",
       "\n",
       "        [[0., 0., 0.],\n",
       "         [0., 0., 0.],\n",
       "         [0., 0., 0.],\n",
       "         ...,\n",
       "         [0., 0., 0.],\n",
       "         [0., 0., 0.],\n",
       "         [0., 0., 0.]],\n",
       "\n",
       "        ...,\n",
       "\n",
       "        [[0., 0., 0.],\n",
       "         [0., 0., 0.],\n",
       "         [0., 0., 0.],\n",
       "         ...,\n",
       "         [0., 0., 0.],\n",
       "         [0., 0., 0.],\n",
       "         [0., 0., 0.]],\n",
       "\n",
       "        [[0., 0., 0.],\n",
       "         [0., 0., 0.],\n",
       "         [0., 0., 0.],\n",
       "         ...,\n",
       "         [0., 0., 0.],\n",
       "         [0., 0., 0.],\n",
       "         [0., 0., 0.]],\n",
       "\n",
       "        [[0., 0., 0.],\n",
       "         [0., 0., 0.],\n",
       "         [0., 0., 0.],\n",
       "         ...,\n",
       "         [0., 0., 0.],\n",
       "         [0., 0., 0.],\n",
       "         [0., 0., 0.]]]], dtype=float32)"
      ]
     },
     "execution_count": 70,
     "metadata": {},
     "output_type": "execute_result"
    }
   ],
   "source": [
    "my_image_arr = my_image_arr.reshape(1,130,130,3)\n",
    "my_image_arr"
   ]
  },
  {
   "cell_type": "code",
   "execution_count": 71,
   "id": "005f18f5",
   "metadata": {},
   "outputs": [
    {
     "name": "stdout",
     "output_type": "stream",
     "text": [
      "1/1 [==============================] - 0s 80ms/step\n"
     ]
    },
    {
     "data": {
      "text/plain": [
       "array([[3.463213e-08]], dtype=float32)"
      ]
     },
     "execution_count": 71,
     "metadata": {},
     "output_type": "execute_result"
    }
   ],
   "source": [
    "pred = model.predict(my_image_arr)\n",
    "pred"
   ]
  },
  {
   "cell_type": "code",
   "execution_count": 72,
   "id": "0f7ded4d",
   "metadata": {},
   "outputs": [
    {
     "data": {
      "text/plain": [
       "array([[0.]], dtype=float32)"
      ]
     },
     "execution_count": 72,
     "metadata": {},
     "output_type": "execute_result"
    }
   ],
   "source": [
    "np.round(pred)"
   ]
  }
 ],
 "metadata": {
  "kernelspec": {
   "display_name": "Python 3 (ipykernel)",
   "language": "python",
   "name": "python3"
  },
  "language_info": {
   "codemirror_mode": {
    "name": "ipython",
    "version": 3
   },
   "file_extension": ".py",
   "mimetype": "text/x-python",
   "name": "python",
   "nbconvert_exporter": "python",
   "pygments_lexer": "ipython3",
   "version": "3.11.5"
  }
 },
 "nbformat": 4,
 "nbformat_minor": 5
}
